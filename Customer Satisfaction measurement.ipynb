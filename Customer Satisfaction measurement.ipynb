{
 "cells": [
  {
   "cell_type": "markdown",
   "metadata": {},
   "source": [
    "## Customer satisfaction measurement"
   ]
  },
  {
   "cell_type": "markdown",
   "metadata": {},
   "source": [
    "#### References"
   ]
  },
  {
   "cell_type": "markdown",
   "metadata": {},
   "source": [
    "McGuire,P., 2019. *Will artificial intelligence kill the contact centre?*, 7 March 2019. [Online]. Available from: https://www.irishtimes.com/business/innovation/will-artificial-intelligence-kill-the-contact-centre-1.3811094"
   ]
  },
  {
   "cell_type": "markdown",
   "metadata": {},
   "source": [
    "Chicu,D, Ryan, G. and Valverde-Aparicio, M., 2016. 'Determinants  of  customer  satisfaction  in  call centres'. *European Accounting and Management Review Issue 2 (2016)* [Online]. Available from https://www.researchgate.net/publication/304792295_Determinants_of_customer_satisfaction_in_call_centres "
   ]
  },
  {
   "cell_type": "markdown",
   "metadata": {},
   "source": [
    "*How is Average Handling Time (AHT) Distributed? It is Not How you Think!*, 8 February 2017 [Online]. Available from: https://www.callcentrehelper.com/how-is-average-handling-time-distributed-it-is-not-how-you-think-97688.htm"
   ]
  },
  {
   "cell_type": "markdown",
   "metadata": {},
   "source": [
    "*Logarithmic distribution*, 22 September 2019 [Online]. Available from: https://en.wikipedia.org/wiki/Logarithmic_distribution"
   ]
  },
  {
   "cell_type": "markdown",
   "metadata": {},
   "source": [
    "SciPy Docs, 24 July 2018 [Online]. Available from: https://docs.scipy.org/doc/numpy-1.15.0/reference/generated/numpy.random.binomial.html"
   ]
  },
  {
   "cell_type": "code",
   "execution_count": null,
   "metadata": {},
   "outputs": [],
   "source": []
  },
  {
   "cell_type": "code",
   "execution_count": null,
   "metadata": {},
   "outputs": [],
   "source": []
  },
  {
   "cell_type": "markdown",
   "metadata": {},
   "source": [
    "## Introduction\n",
    "\n",
    "On estimate 60,000 people work in contact centres and shared service in Ireland, with the average salary at just under €30,000 (McGuire 2019). Companies, big and small, are constantly looking for the way to improve customer service satisfatcion hence monitoring performance of the customer service centre agents is on top of the agenda for customer service management teams. \n",
    "\n",
    "Customer satisfaction  may  be affected by factors such as price, product performance, and service (Bitner et al., 1990; Brown and Maxwell, 2002; Day, 1984; Parasuraman et al., 1988). Most  studies  addressing  the  relationship  between  service  quality  and  customer satisfaction suggest a positive link between the two (Sharma et al., 2009; Upal and Dhaka, 2008).  \n",
    "Furthermore some reseachers suggest customer satisfaction depends also on employee ability to ensure first call resolution (Abdullateef et al., 2011; Aksin et al., 2007; Feinberg et al., 2000) or service level (Cheong et al., 2008).\n",
    "\n",
    "This project will inestigate the satisfaction of customers based on the service they receive from the agent. The data synthesised will closely reflect that data from the small call centre. The call centre is based in Ireland and the it serves customers from around the globe. Agents to do not sell any productes but rather assist callers with website functionality and technical troubleshooting. The customer satisfaction is the main objective in their role.  \n",
    "\n",
    "The main variable in the data is overal customer satisfaction based on timely resolution of the query  (*satisfaction*).\n",
    "The second variable is Agent professionalism and courteous attitude (*agent attitude*).\n",
    "The third variable indicates if agent was easy to enderstand and knowledgable (*agent knowledge*)\n",
    "The final variable is the overal service quality based on expectations (*service quality) \n"
   ]
  },
  {
   "cell_type": "markdown",
   "metadata": {},
   "source": [
    "## Variables"
   ]
  },
  {
   "cell_type": "markdown",
   "metadata": {},
   "source": [
    "### Customer Satisfaction"
   ]
  },
  {
   "cell_type": "markdown",
   "metadata": {},
   "source": [
    "While many other metrics can reveal areas where agents are falling short, the customer satisfaction score is the most direct measure to tell if call center is providing the support the customers need.\n",
    "\n",
    "In the survey the customer satisfaction is determined by the answer to the below question: \n",
    "\n",
    "*On the scale from 1 to 5 how satisfied or dissatisfied are you with how the Agent resolved your query in a timely manner? \n",
    "(1-Very dissatisfied, 2-Somewhat dissatisfied, 3- Neither satisfied nor dissatisfied, 4 - Somewhat satisfied, 5 - Very satisfied)\n",
    " \n",
    "This categorical variable has the average score of 4.57 out of 5."
   ]
  },
  {
   "cell_type": "markdown",
   "metadata": {},
   "source": [
    "### Agent attitude"
   ]
  },
  {
   "cell_type": "markdown",
   "metadata": {},
   "source": [
    "Employees are the brand ambassadors and their behaviour towards the customers have significant impact on how the company is perceived. The agent's attitude (customer  orientation,  responsiveness) is important indicator of not only how happy the customers are but they are also widely used by the company managers for HR analysis.\n",
    "\n",
    "The data that measure the agent' behaviour is gather as the answer to the following question:\n",
    "*The Agent was courteous and professional. \n",
    " Strongly Disagree \n",
    " Disagree \n",
    " Neutral \n",
    " Agree \n",
    " Strongly Agree \n",
    "\n",
    "This data is also being prepared using normal distributions."
   ]
  },
  {
   "cell_type": "markdown",
   "metadata": {},
   "source": [
    "### Agent knowledge"
   ]
  },
  {
   "cell_type": "markdown",
   "metadata": {},
   "source": [
    "Quite often the comments that are left on the survey suggest that company should ensure knowledgable staff do not leave. Fast resolution of customer query is often the result of the agent's knowledge so the third variable is rating of agent in terms of how represents how knowledgable and easy to understand agent is.\n",
    "1 - strongly unsatisfied, 2 - smoewhat unsatisfied, 3- neither satisfied nor unsatisfied, 4- somewhat satisfied, 5 - strongly satisfied.\n"
   ]
  },
  {
   "cell_type": "markdown",
   "metadata": {},
   "source": [
    "### Service quality "
   ]
  },
  {
   "cell_type": "markdown",
   "metadata": {},
   "source": [
    "This call centre aims to offer a very high service and employees are assessed indirectly via the survey. The quality of the service is rated based on the answers to the below question:\n",
    "\n",
    "*How would you rate the overall quality of the service you received from the Agent \n",
    " - Below your expectations (select 1)\n",
    " - Satisfied your expectations (select 2)\n",
    " - Exceeded your expectations (select 3)\n",
    " \n",
    " This categorical data will be generated using normal distribution\n"
   ]
  },
  {
   "cell_type": "markdown",
   "metadata": {},
   "source": [
    "## Data synthesizing"
   ]
  },
  {
   "cell_type": "markdown",
   "metadata": {},
   "source": [
    "### KNN with Survey results"
   ]
  },
  {
   "cell_type": "markdown",
   "metadata": {},
   "source": [
    "### Libraries"
   ]
  },
  {
   "cell_type": "code",
   "execution_count": 132,
   "metadata": {},
   "outputs": [],
   "source": [
    "import sklearn.neighbors as nei\n",
    "import pandas as pd\n",
    "import seaborn as sns\n",
    "import sklearn.model_selection as mod"
   ]
  },
  {
   "cell_type": "markdown",
   "metadata": {},
   "source": [
    "### Data "
   ]
  },
  {
   "cell_type": "code",
   "execution_count": 117,
   "metadata": {},
   "outputs": [],
   "source": [
    "# Load data set\n",
    "df = pd.read_csv (r'C:\\Users\\user\\Documents\\Kasia - Data Analytics course\\Projects\\DAProg2019\\ProgDA_Project2019\\Call_Center_Metrics_2.csv')"
   ]
  },
  {
   "cell_type": "code",
   "execution_count": 118,
   "metadata": {},
   "outputs": [
    {
     "data": {
      "text/html": [
       "<div>\n",
       "<style scoped>\n",
       "    .dataframe tbody tr th:only-of-type {\n",
       "        vertical-align: middle;\n",
       "    }\n",
       "\n",
       "    .dataframe tbody tr th {\n",
       "        vertical-align: top;\n",
       "    }\n",
       "\n",
       "    .dataframe thead th {\n",
       "        text-align: right;\n",
       "    }\n",
       "</style>\n",
       "<table border=\"1\" class=\"dataframe\">\n",
       "  <thead>\n",
       "    <tr style=\"text-align: right;\">\n",
       "      <th></th>\n",
       "      <th>Inbound Calls</th>\n",
       "      <th>Average Speed of Answer in Secs</th>\n",
       "      <th>Abandoned Calls</th>\n",
       "      <th>Call abandoment rate classification</th>\n",
       "    </tr>\n",
       "  </thead>\n",
       "  <tbody>\n",
       "    <tr>\n",
       "      <th>0</th>\n",
       "      <td>3872</td>\n",
       "      <td>24</td>\n",
       "      <td>58</td>\n",
       "      <td>Medium</td>\n",
       "    </tr>\n",
       "    <tr>\n",
       "      <th>1</th>\n",
       "      <td>3619</td>\n",
       "      <td>22</td>\n",
       "      <td>48</td>\n",
       "      <td>Medium</td>\n",
       "    </tr>\n",
       "    <tr>\n",
       "      <th>2</th>\n",
       "      <td>3763</td>\n",
       "      <td>24</td>\n",
       "      <td>43</td>\n",
       "      <td>Medium</td>\n",
       "    </tr>\n",
       "    <tr>\n",
       "      <th>3</th>\n",
       "      <td>3345</td>\n",
       "      <td>14</td>\n",
       "      <td>31</td>\n",
       "      <td>Low</td>\n",
       "    </tr>\n",
       "    <tr>\n",
       "      <th>4</th>\n",
       "      <td>3659</td>\n",
       "      <td>12</td>\n",
       "      <td>28</td>\n",
       "      <td>Low</td>\n",
       "    </tr>\n",
       "    <tr>\n",
       "      <th>5</th>\n",
       "      <td>3682</td>\n",
       "      <td>20</td>\n",
       "      <td>37</td>\n",
       "      <td>Medium</td>\n",
       "    </tr>\n",
       "    <tr>\n",
       "      <th>6</th>\n",
       "      <td>3717</td>\n",
       "      <td>16</td>\n",
       "      <td>30</td>\n",
       "      <td>Low</td>\n",
       "    </tr>\n",
       "    <tr>\n",
       "      <th>7</th>\n",
       "      <td>3916</td>\n",
       "      <td>19</td>\n",
       "      <td>42</td>\n",
       "      <td>Medium</td>\n",
       "    </tr>\n",
       "    <tr>\n",
       "      <th>8</th>\n",
       "      <td>5276</td>\n",
       "      <td>15</td>\n",
       "      <td>46</td>\n",
       "      <td>Low</td>\n",
       "    </tr>\n",
       "    <tr>\n",
       "      <th>9</th>\n",
       "      <td>5837</td>\n",
       "      <td>21</td>\n",
       "      <td>57</td>\n",
       "      <td>Medium</td>\n",
       "    </tr>\n",
       "    <tr>\n",
       "      <th>10</th>\n",
       "      <td>4193</td>\n",
       "      <td>20</td>\n",
       "      <td>37</td>\n",
       "      <td>Low</td>\n",
       "    </tr>\n",
       "    <tr>\n",
       "      <th>11</th>\n",
       "      <td>11924</td>\n",
       "      <td>28</td>\n",
       "      <td>217</td>\n",
       "      <td>Medium</td>\n",
       "    </tr>\n",
       "    <tr>\n",
       "      <th>12</th>\n",
       "      <td>5205</td>\n",
       "      <td>18</td>\n",
       "      <td>63</td>\n",
       "      <td>Medium</td>\n",
       "    </tr>\n",
       "    <tr>\n",
       "      <th>13</th>\n",
       "      <td>4953</td>\n",
       "      <td>14</td>\n",
       "      <td>37</td>\n",
       "      <td>Low</td>\n",
       "    </tr>\n",
       "    <tr>\n",
       "      <th>14</th>\n",
       "      <td>4361</td>\n",
       "      <td>13</td>\n",
       "      <td>43</td>\n",
       "      <td>Low</td>\n",
       "    </tr>\n",
       "    <tr>\n",
       "      <th>15</th>\n",
       "      <td>4507</td>\n",
       "      <td>11</td>\n",
       "      <td>40</td>\n",
       "      <td>Low</td>\n",
       "    </tr>\n",
       "    <tr>\n",
       "      <th>16</th>\n",
       "      <td>5121</td>\n",
       "      <td>12</td>\n",
       "      <td>50</td>\n",
       "      <td>Low</td>\n",
       "    </tr>\n",
       "    <tr>\n",
       "      <th>17</th>\n",
       "      <td>4626</td>\n",
       "      <td>11</td>\n",
       "      <td>30</td>\n",
       "      <td>Low</td>\n",
       "    </tr>\n",
       "    <tr>\n",
       "      <th>18</th>\n",
       "      <td>3879</td>\n",
       "      <td>11</td>\n",
       "      <td>22</td>\n",
       "      <td>Low</td>\n",
       "    </tr>\n",
       "    <tr>\n",
       "      <th>19</th>\n",
       "      <td>3754</td>\n",
       "      <td>10</td>\n",
       "      <td>26</td>\n",
       "      <td>Low</td>\n",
       "    </tr>\n",
       "    <tr>\n",
       "      <th>20</th>\n",
       "      <td>5035</td>\n",
       "      <td>16</td>\n",
       "      <td>49</td>\n",
       "      <td>Low</td>\n",
       "    </tr>\n",
       "    <tr>\n",
       "      <th>21</th>\n",
       "      <td>5478</td>\n",
       "      <td>29</td>\n",
       "      <td>76</td>\n",
       "      <td>Medium</td>\n",
       "    </tr>\n",
       "    <tr>\n",
       "      <th>22</th>\n",
       "      <td>3821</td>\n",
       "      <td>31</td>\n",
       "      <td>64</td>\n",
       "      <td>Medium</td>\n",
       "    </tr>\n",
       "    <tr>\n",
       "      <th>23</th>\n",
       "      <td>11333</td>\n",
       "      <td>73</td>\n",
       "      <td>594</td>\n",
       "      <td>Extremely high</td>\n",
       "    </tr>\n",
       "    <tr>\n",
       "      <th>24</th>\n",
       "      <td>3495</td>\n",
       "      <td>13</td>\n",
       "      <td>31</td>\n",
       "      <td>Low</td>\n",
       "    </tr>\n",
       "    <tr>\n",
       "      <th>25</th>\n",
       "      <td>3166</td>\n",
       "      <td>13</td>\n",
       "      <td>25</td>\n",
       "      <td>Low</td>\n",
       "    </tr>\n",
       "    <tr>\n",
       "      <th>26</th>\n",
       "      <td>3282</td>\n",
       "      <td>28</td>\n",
       "      <td>53</td>\n",
       "      <td>Medium</td>\n",
       "    </tr>\n",
       "    <tr>\n",
       "      <th>27</th>\n",
       "      <td>3425</td>\n",
       "      <td>32</td>\n",
       "      <td>65</td>\n",
       "      <td>Medium</td>\n",
       "    </tr>\n",
       "    <tr>\n",
       "      <th>28</th>\n",
       "      <td>3402</td>\n",
       "      <td>16</td>\n",
       "      <td>28</td>\n",
       "      <td>Low</td>\n",
       "    </tr>\n",
       "    <tr>\n",
       "      <th>29</th>\n",
       "      <td>3084</td>\n",
       "      <td>14</td>\n",
       "      <td>29</td>\n",
       "      <td>Low</td>\n",
       "    </tr>\n",
       "    <tr>\n",
       "      <th>...</th>\n",
       "      <td>...</td>\n",
       "      <td>...</td>\n",
       "      <td>...</td>\n",
       "      <td>...</td>\n",
       "    </tr>\n",
       "    <tr>\n",
       "      <th>75</th>\n",
       "      <td>3034</td>\n",
       "      <td>20</td>\n",
       "      <td>30</td>\n",
       "      <td>Medium</td>\n",
       "    </tr>\n",
       "    <tr>\n",
       "      <th>76</th>\n",
       "      <td>3317</td>\n",
       "      <td>20</td>\n",
       "      <td>37</td>\n",
       "      <td>Medium</td>\n",
       "    </tr>\n",
       "    <tr>\n",
       "      <th>77</th>\n",
       "      <td>3331</td>\n",
       "      <td>20</td>\n",
       "      <td>45</td>\n",
       "      <td>Medium</td>\n",
       "    </tr>\n",
       "    <tr>\n",
       "      <th>78</th>\n",
       "      <td>3926</td>\n",
       "      <td>37</td>\n",
       "      <td>80</td>\n",
       "      <td>High</td>\n",
       "    </tr>\n",
       "    <tr>\n",
       "      <th>79</th>\n",
       "      <td>3566</td>\n",
       "      <td>106</td>\n",
       "      <td>271</td>\n",
       "      <td>Extremely high</td>\n",
       "    </tr>\n",
       "    <tr>\n",
       "      <th>80</th>\n",
       "      <td>6481</td>\n",
       "      <td>224</td>\n",
       "      <td>969</td>\n",
       "      <td>Extremely high</td>\n",
       "    </tr>\n",
       "    <tr>\n",
       "      <th>81</th>\n",
       "      <td>3864</td>\n",
       "      <td>80</td>\n",
       "      <td>233</td>\n",
       "      <td>High</td>\n",
       "    </tr>\n",
       "    <tr>\n",
       "      <th>82</th>\n",
       "      <td>4455</td>\n",
       "      <td>83</td>\n",
       "      <td>219</td>\n",
       "      <td>Medium</td>\n",
       "    </tr>\n",
       "    <tr>\n",
       "      <th>83</th>\n",
       "      <td>6771</td>\n",
       "      <td>28</td>\n",
       "      <td>120</td>\n",
       "      <td>Low</td>\n",
       "    </tr>\n",
       "    <tr>\n",
       "      <th>84</th>\n",
       "      <td>3153</td>\n",
       "      <td>23</td>\n",
       "      <td>54</td>\n",
       "      <td>Medium</td>\n",
       "    </tr>\n",
       "    <tr>\n",
       "      <th>85</th>\n",
       "      <td>3585</td>\n",
       "      <td>24</td>\n",
       "      <td>46</td>\n",
       "      <td>Low</td>\n",
       "    </tr>\n",
       "    <tr>\n",
       "      <th>86</th>\n",
       "      <td>3682</td>\n",
       "      <td>24</td>\n",
       "      <td>67</td>\n",
       "      <td>Medium</td>\n",
       "    </tr>\n",
       "    <tr>\n",
       "      <th>87</th>\n",
       "      <td>3242</td>\n",
       "      <td>14</td>\n",
       "      <td>38</td>\n",
       "      <td>Medium</td>\n",
       "    </tr>\n",
       "    <tr>\n",
       "      <th>88</th>\n",
       "      <td>3325</td>\n",
       "      <td>15</td>\n",
       "      <td>44</td>\n",
       "      <td>Medium</td>\n",
       "    </tr>\n",
       "    <tr>\n",
       "      <th>89</th>\n",
       "      <td>5637</td>\n",
       "      <td>21</td>\n",
       "      <td>102</td>\n",
       "      <td>Medium</td>\n",
       "    </tr>\n",
       "    <tr>\n",
       "      <th>90</th>\n",
       "      <td>3893</td>\n",
       "      <td>29</td>\n",
       "      <td>83</td>\n",
       "      <td>High</td>\n",
       "    </tr>\n",
       "    <tr>\n",
       "      <th>91</th>\n",
       "      <td>3117</td>\n",
       "      <td>21</td>\n",
       "      <td>43</td>\n",
       "      <td>Medium</td>\n",
       "    </tr>\n",
       "    <tr>\n",
       "      <th>92</th>\n",
       "      <td>2970</td>\n",
       "      <td>17</td>\n",
       "      <td>41</td>\n",
       "      <td>Medium</td>\n",
       "    </tr>\n",
       "    <tr>\n",
       "      <th>93</th>\n",
       "      <td>2584</td>\n",
       "      <td>22</td>\n",
       "      <td>37</td>\n",
       "      <td>Extremely high</td>\n",
       "    </tr>\n",
       "    <tr>\n",
       "      <th>94</th>\n",
       "      <td>2763</td>\n",
       "      <td>21</td>\n",
       "      <td>45</td>\n",
       "      <td>Extremely high</td>\n",
       "    </tr>\n",
       "    <tr>\n",
       "      <th>95</th>\n",
       "      <td>2752</td>\n",
       "      <td>18</td>\n",
       "      <td>40</td>\n",
       "      <td>Medium</td>\n",
       "    </tr>\n",
       "    <tr>\n",
       "      <th>96</th>\n",
       "      <td>3101</td>\n",
       "      <td>29</td>\n",
       "      <td>62</td>\n",
       "      <td>Medium</td>\n",
       "    </tr>\n",
       "    <tr>\n",
       "      <th>97</th>\n",
       "      <td>3472</td>\n",
       "      <td>44</td>\n",
       "      <td>100</td>\n",
       "      <td>Medium</td>\n",
       "    </tr>\n",
       "    <tr>\n",
       "      <th>98</th>\n",
       "      <td>3685</td>\n",
       "      <td>43</td>\n",
       "      <td>82</td>\n",
       "      <td>Medium</td>\n",
       "    </tr>\n",
       "    <tr>\n",
       "      <th>99</th>\n",
       "      <td>3790</td>\n",
       "      <td>62</td>\n",
       "      <td>164</td>\n",
       "      <td>Medium</td>\n",
       "    </tr>\n",
       "    <tr>\n",
       "      <th>100</th>\n",
       "      <td>3559</td>\n",
       "      <td>49</td>\n",
       "      <td>130</td>\n",
       "      <td>Medium</td>\n",
       "    </tr>\n",
       "    <tr>\n",
       "      <th>101</th>\n",
       "      <td>6009</td>\n",
       "      <td>29</td>\n",
       "      <td>110</td>\n",
       "      <td>Medium</td>\n",
       "    </tr>\n",
       "    <tr>\n",
       "      <th>102</th>\n",
       "      <td>4379</td>\n",
       "      <td>29</td>\n",
       "      <td>72</td>\n",
       "      <td>High</td>\n",
       "    </tr>\n",
       "    <tr>\n",
       "      <th>103</th>\n",
       "      <td>2520</td>\n",
       "      <td>18</td>\n",
       "      <td>30</td>\n",
       "      <td>Medium</td>\n",
       "    </tr>\n",
       "    <tr>\n",
       "      <th>104</th>\n",
       "      <td>3171</td>\n",
       "      <td>25</td>\n",
       "      <td>45</td>\n",
       "      <td>Medium</td>\n",
       "    </tr>\n",
       "  </tbody>\n",
       "</table>\n",
       "<p>105 rows × 4 columns</p>\n",
       "</div>"
      ],
      "text/plain": [
       "     Inbound Calls  Average Speed of Answer in Secs  Abandoned Calls  \\\n",
       "0             3872                               24               58   \n",
       "1             3619                               22               48   \n",
       "2             3763                               24               43   \n",
       "3             3345                               14               31   \n",
       "4             3659                               12               28   \n",
       "5             3682                               20               37   \n",
       "6             3717                               16               30   \n",
       "7             3916                               19               42   \n",
       "8             5276                               15               46   \n",
       "9             5837                               21               57   \n",
       "10            4193                               20               37   \n",
       "11           11924                               28              217   \n",
       "12            5205                               18               63   \n",
       "13            4953                               14               37   \n",
       "14            4361                               13               43   \n",
       "15            4507                               11               40   \n",
       "16            5121                               12               50   \n",
       "17            4626                               11               30   \n",
       "18            3879                               11               22   \n",
       "19            3754                               10               26   \n",
       "20            5035                               16               49   \n",
       "21            5478                               29               76   \n",
       "22            3821                               31               64   \n",
       "23           11333                               73              594   \n",
       "24            3495                               13               31   \n",
       "25            3166                               13               25   \n",
       "26            3282                               28               53   \n",
       "27            3425                               32               65   \n",
       "28            3402                               16               28   \n",
       "29            3084                               14               29   \n",
       "..             ...                              ...              ...   \n",
       "75            3034                               20               30   \n",
       "76            3317                               20               37   \n",
       "77            3331                               20               45   \n",
       "78            3926                               37               80   \n",
       "79            3566                              106              271   \n",
       "80            6481                              224              969   \n",
       "81            3864                               80              233   \n",
       "82            4455                               83              219   \n",
       "83            6771                               28              120   \n",
       "84            3153                               23               54   \n",
       "85            3585                               24               46   \n",
       "86            3682                               24               67   \n",
       "87            3242                               14               38   \n",
       "88            3325                               15               44   \n",
       "89            5637                               21              102   \n",
       "90            3893                               29               83   \n",
       "91            3117                               21               43   \n",
       "92            2970                               17               41   \n",
       "93            2584                               22               37   \n",
       "94            2763                               21               45   \n",
       "95            2752                               18               40   \n",
       "96            3101                               29               62   \n",
       "97            3472                               44              100   \n",
       "98            3685                               43               82   \n",
       "99            3790                               62              164   \n",
       "100           3559                               49              130   \n",
       "101           6009                               29              110   \n",
       "102           4379                               29               72   \n",
       "103           2520                               18               30   \n",
       "104           3171                               25               45   \n",
       "\n",
       "    Call abandoment rate classification  \n",
       "0                                Medium  \n",
       "1                                Medium  \n",
       "2                                Medium  \n",
       "3                                   Low  \n",
       "4                                   Low  \n",
       "5                                Medium  \n",
       "6                                   Low  \n",
       "7                                Medium  \n",
       "8                                   Low  \n",
       "9                                Medium  \n",
       "10                                  Low  \n",
       "11                               Medium  \n",
       "12                               Medium  \n",
       "13                                  Low  \n",
       "14                                  Low  \n",
       "15                                  Low  \n",
       "16                                  Low  \n",
       "17                                  Low  \n",
       "18                                  Low  \n",
       "19                                  Low  \n",
       "20                                  Low  \n",
       "21                               Medium  \n",
       "22                               Medium  \n",
       "23                       Extremely high  \n",
       "24                                  Low  \n",
       "25                                  Low  \n",
       "26                               Medium  \n",
       "27                               Medium  \n",
       "28                                  Low  \n",
       "29                                  Low  \n",
       "..                                  ...  \n",
       "75                               Medium  \n",
       "76                               Medium  \n",
       "77                               Medium  \n",
       "78                                 High  \n",
       "79                       Extremely high  \n",
       "80                       Extremely high  \n",
       "81                                 High  \n",
       "82                               Medium  \n",
       "83                                  Low  \n",
       "84                               Medium  \n",
       "85                                  Low  \n",
       "86                               Medium  \n",
       "87                               Medium  \n",
       "88                               Medium  \n",
       "89                               Medium  \n",
       "90                                 High  \n",
       "91                               Medium  \n",
       "92                               Medium  \n",
       "93                       Extremely high  \n",
       "94                       Extremely high  \n",
       "95                               Medium  \n",
       "96                               Medium  \n",
       "97                               Medium  \n",
       "98                               Medium  \n",
       "99                               Medium  \n",
       "100                              Medium  \n",
       "101                              Medium  \n",
       "102                                High  \n",
       "103                              Medium  \n",
       "104                              Medium  \n",
       "\n",
       "[105 rows x 4 columns]"
      ]
     },
     "execution_count": 118,
     "metadata": {},
     "output_type": "execute_result"
    }
   ],
   "source": [
    "df"
   ]
  },
  {
   "cell_type": "code",
   "execution_count": 119,
   "metadata": {},
   "outputs": [
    {
     "data": {
      "text/plain": [
       "<seaborn.axisgrid.PairGrid at 0x2065effdc88>"
      ]
     },
     "execution_count": 119,
     "metadata": {},
     "output_type": "execute_result"
    },
    {
     "data": {
      "image/png": "[encoded data removed]",
      "text/plain": [
       "<Figure size 724.75x540 with 12 Axes>"
      ]
     },
     "metadata": {
      "needs_background": "light"
     },
     "output_type": "display_data"
    }
   ],
   "source": [
    "# Load the seaborn package\n",
    "sns.pairplot(df, hue='Call abandoment rate classification')"
   ]
  },
  {
   "cell_type": "code",
   "execution_count": 120,
   "metadata": {},
   "outputs": [],
   "source": [
    "inputs = df[['Inbound Calls', 'Average Speed of Answer in Secs', 'Abandoned Calls']]\n",
    "outputs = df['Call abandoment rate classification']"
   ]
  },
  {
   "cell_type": "code",
   "execution_count": 127,
   "metadata": {},
   "outputs": [],
   "source": [
    "knn = nei.KNeighborsClassifier(n_neighbors=2)"
   ]
  },
  {
   "cell_type": "code",
   "execution_count": 128,
   "metadata": {},
   "outputs": [
    {
     "data": {
      "text/plain": [
       "KNeighborsClassifier(algorithm='auto', leaf_size=30, metric='minkowski',\n",
       "                     metric_params=None, n_jobs=None, n_neighbors=2, p=2,\n",
       "                     weights='uniform')"
      ]
     },
     "execution_count": 128,
     "metadata": {},
     "output_type": "execute_result"
    }
   ],
   "source": [
    "knn.fit(inputs, outputs)"
   ]
  },
  {
   "cell_type": "markdown",
   "metadata": {},
   "source": [
    "### Predict"
   ]
  },
  {
   "cell_type": "code",
   "execution_count": 129,
   "metadata": {},
   "outputs": [
    {
     "data": {
      "text/plain": [
       "Inbound Calls                            3034\n",
       "Average Speed of Answer in Secs            20\n",
       "Abandoned Calls                            30\n",
       "Call abandoment rate classification    Medium\n",
       "Name: 75, dtype: object"
      ]
     },
     "execution_count": 129,
     "metadata": {},
     "output_type": "execute_result"
    }
   ],
   "source": [
    "df.loc[75]"
   ]
  },
  {
   "cell_type": "code",
   "execution_count": 130,
   "metadata": {},
   "outputs": [
    {
     "data": {
      "text/plain": [
       "array(['High'], dtype=object)"
      ]
     },
     "execution_count": 130,
     "metadata": {},
     "output_type": "execute_result"
    }
   ],
   "source": [
    "knn.predict([[3790, 62, 164]])"
   ]
  },
  {
   "cell_type": "markdown",
   "metadata": {},
   "source": [
    "### Evaluate"
   ]
  },
  {
   "cell_type": "code",
   "execution_count": 131,
   "metadata": {},
   "outputs": [
    {
     "data": {
      "text/plain": [
       "84"
      ]
     },
     "execution_count": 131,
     "metadata": {},
     "output_type": "execute_result"
    }
   ],
   "source": [
    "(knn.predict(inputs) == outputs).sum()"
   ]
  },
  {
   "cell_type": "code",
   "execution_count": null,
   "metadata": {},
   "outputs": [],
   "source": [
    "mod.trai_test_split()"
   ]
  }
 ],
 "metadata": {
  "kernelspec": {
   "display_name": "Python 3",
   "language": "python",
   "name": "python3"
  },
  "language_info": {
   "codemirror_mode": {
    "name": "ipython",
    "version": 3
   },
   "file_extension": ".py",
   "mimetype": "text/x-python",
   "name": "python",
   "nbconvert_exporter": "python",
   "pygments_lexer": "ipython3",
   "version": "3.7.3"
  }
 },
 "nbformat": 4,
 "nbformat_minor": 2
}
