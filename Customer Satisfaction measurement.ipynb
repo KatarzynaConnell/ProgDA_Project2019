{
 "cells": [
  {
   "cell_type": "markdown",
   "metadata": {},
   "source": [
    "## Customer satisfaction measurement"
   ]
  },
  {
   "cell_type": "markdown",
   "metadata": {},
   "source": [
    "#### References"
   ]
  },
  {
   "cell_type": "markdown",
   "metadata": {},
   "source": [
    "McGuire,P., 2019. *Will artificial intelligence kill the contact centre?*, 7 March 2019. [Online]. Available from: https://www.irishtimes.com/business/innovation/will-artificial-intelligence-kill-the-contact-centre-1.3811094"
   ]
  },
  {
   "cell_type": "markdown",
   "metadata": {},
   "source": [
    "Chicu,D, Ryan, G. and Valverde-Aparicio, M., 2016. 'Determinants  of  customer  satisfaction  in  call centres'. *European Accounting and Management Review Issue 2 (2016)* [Online]. Available from https://www.researchgate.net/publication/304792295_Determinants_of_customer_satisfaction_in_call_centres "
   ]
  },
  {
   "cell_type": "markdown",
   "metadata": {},
   "source": [
    "*How is Average Handling Time (AHT) Distributed? It is Not How you Think!*, 8 February 2017 [Online]. Available from: https://www.callcentrehelper.com/how-is-average-handling-time-distributed-it-is-not-how-you-think-97688.htm"
   ]
  },
  {
   "cell_type": "markdown",
   "metadata": {},
   "source": [
    "*Logarithmic distribution*, 22 September 2019 [Online]. Available from: https://en.wikipedia.org/wiki/Logarithmic_distribution"
   ]
  },
  {
   "cell_type": "markdown",
   "metadata": {},
   "source": [
    "SciPy Docs, 24 July 2018 [Online]. Available from: https://docs.scipy.org/doc/numpy-1.15.0/reference/generated/numpy.random.binomial.html"
   ]
  },
  {
   "cell_type": "markdown",
   "metadata": {},
   "source": [
    "Longelin, J., *The 10 Best Metrics To Measure Call Center Agent Productivity* 29 August 2018. [Online]. Available from: https://blog.playvox.com/metrics-to-measure-call-center-agent-productivity"
   ]
  },
  {
   "cell_type": "markdown",
   "metadata": {},
   "source": [
    "Stackoverflow, 21 July 2014 *Create random numbers with left skewed probability distribution* [Online]. Available from \n",
    "https://stackoverflow.com/questions/24854965/create-random-numbers-with-left-skewed-probability-distribution"
   ]
  },
  {
   "cell_type": "markdown",
   "metadata": {},
   "source": [
    "McLoughlin, I., 25 October 2018 *'Testing the classifier'* [Online]. Available from: https://web.microsoftstream.com/video/6934f43d-8cf9-4328-9be4-54ba7c593443"
   ]
  },
  {
   "cell_type": "markdown",
   "metadata": {},
   "source": [
    "Sarker, T. 19 December 2018 *'Synthetic data generation — a must-have skill for new data scientists'* [Online]. Available from: https://towardsdatascience.com/synthetic-data-generation-a-must-have-skill-for-new-data-scientists-915896c0c1ae"
   ]
  },
  {
   "cell_type": "markdown",
   "metadata": {},
   "source": [
    "## Introduction\n",
    "\n",
    "On estimate 60,000 people work in contact centres and shared service in Ireland, with the average salary at just under €30,000 (McGuire 2019). Companies, big and small, are constantly looking for the way to improve customer service satisfatcion hence monitoring performance of the customer service centre agents is on top of the agenda for customer service management teams. \n",
    "\n",
    "Customer satisfaction  may  be affected by factors such as price, product performance, and service (Bitner et al., 1990; Brown and Maxwell, 2002; Day, 1984; Parasuraman et al., 1988). Most  studies  addressing  the  relationship  between  service  quality  and  customer satisfaction suggest a positive link between the two (Sharma et al., 2009; Upal and Dhaka, 2008).  \n",
    "Furthermore some reseachers suggest customer satisfaction depends also on employee ability to ensure first call resolution (Abdullateef et al., 2011; Aksin et al., 2007; Feinberg et al., 2000) or service level (Cheong et al., 2008).\n",
    "\n",
    "This project will inestigate the satisfaction of customers based on the service they receive from the agent. \n",
    "A survey online poll was conducted between Oct 1-31, 2019 among customers who called the agents in a small company in Ireland and received the service. The total of 100 surveys were obtained in that period. Each customer had to rate in the scale from 1 to 5 timely resolution, agent's knowledge, agent's attitude. The final variable 'overal satisfaction' was then assigned by the company based on the following rules:\n",
    "- exceeded expectations - if all 3 questions were marked with 5\n",
    "- satisfied - if any of the questions was marked at 3 or 4\n",
    "- below expectatins - if any of the question was marked as 1 or 2\n",
    "\n",
    "The call centre is based in Ireland and the it serves customers from around the globe. Agents to do not sell any productes but rather assist callers with website functionality and technical troubleshooting. The customer satisfaction is the main objective in their role.  \n",
    "\n",
    "The hypothesis is that the timely resolution depends strongly on the agent's knowledge and that the customer satisfaction depends on the agent's attitude."
   ]
  },
  {
   "cell_type": "markdown",
   "metadata": {},
   "source": [
    "## Data import"
   ]
  },
  {
   "cell_type": "markdown",
   "metadata": {},
   "source": [
    "### Libraries"
   ]
  },
  {
   "cell_type": "code",
   "execution_count": 4,
   "metadata": {},
   "outputs": [],
   "source": [
    "import sklearn.neighbors as nei\n",
    "import pandas as pd\n",
    "import seaborn as sns\n",
    "import numpy as np\n",
    "import sklearn.model_selection as mod\n",
    "import matplotlib.pyplot as plt\n",
    "import scipy.stats as ss\n",
    "from scipy.stats import skewnorm"
   ]
  },
  {
   "cell_type": "markdown",
   "metadata": {},
   "source": [
    "### Load Data "
   ]
  },
  {
   "cell_type": "code",
   "execution_count": 5,
   "metadata": {},
   "outputs": [],
   "source": [
    "# Load data set\n",
    "df = pd.read_excel (r'C:\\Users\\user\\Documents\\Kasia - Data Analytics course\\Projects\\DAProg2019\\ProgDA_Project2019\\Survey results.xlsx')"
   ]
  },
  {
   "cell_type": "code",
   "execution_count": 6,
   "metadata": {},
   "outputs": [
    {
     "data": {
      "text/html": [
       "<div>\n",
       "<style scoped>\n",
       "    .dataframe tbody tr th:only-of-type {\n",
       "        vertical-align: middle;\n",
       "    }\n",
       "\n",
       "    .dataframe tbody tr th {\n",
       "        vertical-align: top;\n",
       "    }\n",
       "\n",
       "    .dataframe thead th {\n",
       "        text-align: right;\n",
       "    }\n",
       "</style>\n",
       "<table border=\"1\" class=\"dataframe\">\n",
       "  <thead>\n",
       "    <tr style=\"text-align: right;\">\n",
       "      <th></th>\n",
       "      <th>Satisfaction from timely query resolution</th>\n",
       "      <th>Agent attitude</th>\n",
       "      <th>Agent knowledge</th>\n",
       "      <th>Overall Satisfaction</th>\n",
       "    </tr>\n",
       "  </thead>\n",
       "  <tbody>\n",
       "    <tr>\n",
       "      <th>0</th>\n",
       "      <td>5</td>\n",
       "      <td>5</td>\n",
       "      <td>5</td>\n",
       "      <td>Exceeded expectations</td>\n",
       "    </tr>\n",
       "    <tr>\n",
       "      <th>1</th>\n",
       "      <td>5</td>\n",
       "      <td>5</td>\n",
       "      <td>5</td>\n",
       "      <td>Exceeded expectations</td>\n",
       "    </tr>\n",
       "  </tbody>\n",
       "</table>\n",
       "</div>"
      ],
      "text/plain": [
       "   Satisfaction from timely query resolution  Agent attitude  Agent knowledge  \\\n",
       "0                                          5               5                5   \n",
       "1                                          5               5                5   \n",
       "\n",
       "    Overall Satisfaction  \n",
       "0  Exceeded expectations  \n",
       "1  Exceeded expectations  "
      ]
     },
     "execution_count": 6,
     "metadata": {},
     "output_type": "execute_result"
    }
   ],
   "source": [
    "df.head(n=2)"
   ]
  },
  {
   "cell_type": "code",
   "execution_count": 7,
   "metadata": {},
   "outputs": [
    {
     "data": {
      "text/html": [
       "<div>\n",
       "<style scoped>\n",
       "    .dataframe tbody tr th:only-of-type {\n",
       "        vertical-align: middle;\n",
       "    }\n",
       "\n",
       "    .dataframe tbody tr th {\n",
       "        vertical-align: top;\n",
       "    }\n",
       "\n",
       "    .dataframe thead th {\n",
       "        text-align: right;\n",
       "    }\n",
       "</style>\n",
       "<table border=\"1\" class=\"dataframe\">\n",
       "  <thead>\n",
       "    <tr style=\"text-align: right;\">\n",
       "      <th></th>\n",
       "      <th>Satisfaction from timely query resolution</th>\n",
       "      <th>Agent attitude</th>\n",
       "      <th>Agent knowledge</th>\n",
       "      <th>Overall Satisfaction</th>\n",
       "    </tr>\n",
       "  </thead>\n",
       "  <tbody>\n",
       "    <tr>\n",
       "      <th>99</th>\n",
       "      <td>5</td>\n",
       "      <td>5</td>\n",
       "      <td>5</td>\n",
       "      <td>Exceeded expectations</td>\n",
       "    </tr>\n",
       "    <tr>\n",
       "      <th>100</th>\n",
       "      <td>5</td>\n",
       "      <td>5</td>\n",
       "      <td>5</td>\n",
       "      <td>Exceeded expectations</td>\n",
       "    </tr>\n",
       "  </tbody>\n",
       "</table>\n",
       "</div>"
      ],
      "text/plain": [
       "     Satisfaction from timely query resolution  Agent attitude  \\\n",
       "99                                           5               5   \n",
       "100                                          5               5   \n",
       "\n",
       "     Agent knowledge   Overall Satisfaction  \n",
       "99                 5  Exceeded expectations  \n",
       "100                5  Exceeded expectations  "
      ]
     },
     "execution_count": 7,
     "metadata": {},
     "output_type": "execute_result"
    }
   ],
   "source": [
    "df.tail(n=2)"
   ]
  },
  {
   "cell_type": "code",
   "execution_count": 8,
   "metadata": {},
   "outputs": [
    {
     "data": {
      "text/html": [
       "<div>\n",
       "<style scoped>\n",
       "    .dataframe tbody tr th:only-of-type {\n",
       "        vertical-align: middle;\n",
       "    }\n",
       "\n",
       "    .dataframe tbody tr th {\n",
       "        vertical-align: top;\n",
       "    }\n",
       "\n",
       "    .dataframe thead th {\n",
       "        text-align: right;\n",
       "    }\n",
       "</style>\n",
       "<table border=\"1\" class=\"dataframe\">\n",
       "  <thead>\n",
       "    <tr style=\"text-align: right;\">\n",
       "      <th></th>\n",
       "      <th>Satisfaction from timely query resolution</th>\n",
       "      <th>Agent attitude</th>\n",
       "      <th>Agent knowledge</th>\n",
       "    </tr>\n",
       "  </thead>\n",
       "  <tbody>\n",
       "    <tr>\n",
       "      <th>count</th>\n",
       "      <td>101.000000</td>\n",
       "      <td>101.000000</td>\n",
       "      <td>101.000000</td>\n",
       "    </tr>\n",
       "    <tr>\n",
       "      <th>mean</th>\n",
       "      <td>4.504950</td>\n",
       "      <td>4.584158</td>\n",
       "      <td>4.514851</td>\n",
       "    </tr>\n",
       "    <tr>\n",
       "      <th>std</th>\n",
       "      <td>1.092005</td>\n",
       "      <td>1.022422</td>\n",
       "      <td>1.073442</td>\n",
       "    </tr>\n",
       "    <tr>\n",
       "      <th>min</th>\n",
       "      <td>1.000000</td>\n",
       "      <td>1.000000</td>\n",
       "      <td>1.000000</td>\n",
       "    </tr>\n",
       "    <tr>\n",
       "      <th>25%</th>\n",
       "      <td>5.000000</td>\n",
       "      <td>5.000000</td>\n",
       "      <td>5.000000</td>\n",
       "    </tr>\n",
       "    <tr>\n",
       "      <th>50%</th>\n",
       "      <td>5.000000</td>\n",
       "      <td>5.000000</td>\n",
       "      <td>5.000000</td>\n",
       "    </tr>\n",
       "    <tr>\n",
       "      <th>75%</th>\n",
       "      <td>5.000000</td>\n",
       "      <td>5.000000</td>\n",
       "      <td>5.000000</td>\n",
       "    </tr>\n",
       "    <tr>\n",
       "      <th>max</th>\n",
       "      <td>5.000000</td>\n",
       "      <td>5.000000</td>\n",
       "      <td>5.000000</td>\n",
       "    </tr>\n",
       "  </tbody>\n",
       "</table>\n",
       "</div>"
      ],
      "text/plain": [
       "       Satisfaction from timely query resolution  Agent attitude  \\\n",
       "count                                 101.000000      101.000000   \n",
       "mean                                    4.504950        4.584158   \n",
       "std                                     1.092005        1.022422   \n",
       "min                                     1.000000        1.000000   \n",
       "25%                                     5.000000        5.000000   \n",
       "50%                                     5.000000        5.000000   \n",
       "75%                                     5.000000        5.000000   \n",
       "max                                     5.000000        5.000000   \n",
       "\n",
       "       Agent knowledge  \n",
       "count       101.000000  \n",
       "mean          4.514851  \n",
       "std           1.073442  \n",
       "min           1.000000  \n",
       "25%           5.000000  \n",
       "50%           5.000000  \n",
       "75%           5.000000  \n",
       "max           5.000000  "
      ]
     },
     "execution_count": 8,
     "metadata": {},
     "output_type": "execute_result"
    }
   ],
   "source": [
    "df.describe()"
   ]
  },
  {
   "cell_type": "markdown",
   "metadata": {},
   "source": [
    "## Variables"
   ]
  },
  {
   "cell_type": "markdown",
   "metadata": {},
   "source": [
    "### Satisfaction from timely query resolution"
   ]
  },
  {
   "cell_type": "markdown",
   "metadata": {},
   "source": [
    "While many other metrics can reveal areas where agents are falling short, the customer satisfaction score is the most direct measure to tell if call center is providing the support the customers need (Longelin, 2018).\n",
    "\n",
    "In the survey the customer satisfaction is determined by the answer to the below question: \n",
    "\n",
    "*On the scale from 1 to 5 how satisfied or dissatisfied are you with how the Agent resolved your query in a timely manner? \n",
    "(1-Very dissatisfied, 2-Somewhat dissatisfied, 3- Neither satisfied nor dissatisfied, 4 - Somewhat satisfied, 5 - Very satisfied)\n",
    " \n",
    "This categorical variable has the average score of 4.50 out of 5. The left-skewed distribution can be observed (also called negative-skew).\n",
    "\n",
    "Scipy package can be used to fit the data into a skew-normal distribution."
   ]
  },
  {
   "cell_type": "code",
   "execution_count": 81,
   "metadata": {},
   "outputs": [
    {
     "data": {
      "image/png": "[encoded data removed]",
      "text/plain": [
       "<Figure size 432x288 with 1 Axes>"
      ]
     },
     "metadata": {
      "needs_background": "light"
     },
     "output_type": "display_data"
    }
   ],
   "source": [
    "numValues = 100\n",
    "maxValue = 5\n",
    "skewness = -5   #Negative values are left skewed\n",
    "\n",
    "randoms = skewnorm.rvs(a = skewness,loc=maxValue, size=numValues)  #Skewnorm function\n",
    "\n",
    "random = random / max(random)      #Standadize all the vlues between 0 and 1. \n",
    "random = random * maxValue         #Multiply the standardized values by the maximum value.\n",
    "\n",
    "#Plot histogram to check skewness\n",
    "plt.hist(randoms,5,density=True, color = 'red', alpha=1)\n",
    "plt.show()"
   ]
  },
  {
   "cell_type": "code",
   "execution_count": 83,
   "metadata": {},
   "outputs": [
    {
     "name": "stdout",
     "output_type": "stream",
     "text": [
      "[4.14048798 4.27433752 3.84193435 4.44904928 3.52214134 4.1937408\n",
      " 2.9409244  2.23610861 4.40984874 4.59166619 4.41004729 5.09373121\n",
      " 4.11864483 4.77820434 3.70144085 5.1515778  4.88360778 4.63146323\n",
      " 3.86349459 4.07929697 4.67950068 3.53250513 5.12229072 2.99582523\n",
      " 4.33090199 4.90419993 4.61928768 4.50442103 3.45161221 3.44504493\n",
      " 3.53890581 3.46741932 4.79612616 4.6741422  4.22957432 3.89587081\n",
      " 4.36506005 4.7881024  4.65452843 3.41945834 3.78723462 3.15816787\n",
      " 3.94784751 4.38112969 4.96796438 3.42409537 4.3530569  3.33013412\n",
      " 5.31907609 3.96324235 4.456154   4.18607964 4.69912696 4.75408922\n",
      " 3.35797953 4.56439566 4.01384528 4.4902167  4.48391822 4.83782961\n",
      " 4.78772154 4.49183383 3.46090477 4.10239891 5.01955018 3.97385206\n",
      " 4.42481847 3.66505507 4.06422587 4.4406707  4.66716082 3.75911876\n",
      " 4.83582306 4.65609232 5.07016849 3.51172493 2.54572073 4.32673128\n",
      " 4.70467553 4.65743141 3.15627369 4.55574934 4.58783272 2.77882053\n",
      " 4.89141072 4.36431438 4.72732687 4.79570449 3.49654428 4.32456021\n",
      " 4.25852577 3.590416   4.19210193 4.470112   4.97250914 3.62027838\n",
      " 4.6673148  4.31727347 4.60549653 4.50822145]\n"
     ]
    }
   ],
   "source": [
    "print (randoms)"
   ]
  },
  {
   "cell_type": "markdown",
   "metadata": {},
   "source": [
    "### Agent attitude"
   ]
  },
  {
   "cell_type": "markdown",
   "metadata": {},
   "source": [
    "Employees are the brand ambassadors and their behaviour towards the customers have significant impact on how the company is perceived. The agent's attitude (customer  orientation,  responsiveness) is important indicator of how happy the customers are.\n",
    "\n",
    "The data that measure the agent' behaviour is gather as the answer to the following question:\n",
    "*In the scade from 1 to 5 rate if you agree with the below statement:\n",
    "the Agent was courteous and professional  \n",
    "1 - Strongly Disagree \n",
    "2 - Disagree \n",
    "3 - Neutral \n",
    "4 - Agree \n",
    "5 - Strongly Agree \n",
    "\n",
    "The left-skewed distribution can be observed here (also called negative-skew).\n",
    "Here is a histogram and a quantile-quantile plot for a left-skewed distribution."
   ]
  },
  {
   "cell_type": "code",
   "execution_count": 24,
   "metadata": {},
   "outputs": [
    {
     "data": {
      "image/png": "[encoded data removed]",
      "text/plain": [
       "<Figure size 432x288 with 1 Axes>"
      ]
     },
     "metadata": {
      "needs_background": "light"
     },
     "output_type": "display_data"
    }
   ],
   "source": [
    "numValues = 100\n",
    "maxValue = 5\n",
    "skewness = -5   #Negative values are left skewed\n",
    "\n",
    "randoma = skewnorm.rvs(a = skewness,loc=maxValue, size=numValues)  #Skewnorm function\n",
    "\n",
    "random = random / max(random)      #Standadize all the vlues between 0 and 1. \n",
    "random = random * maxValue         #Multiply the standardized values by the maximum value.\n",
    "\n",
    "#Plot histogram to check skewness\n",
    "plt.hist(randoma,5,density=True, color = 'red', alpha=1)\n",
    "plt.show()"
   ]
  },
  {
   "cell_type": "code",
   "execution_count": 32,
   "metadata": {},
   "outputs": [
    {
     "name": "stdout",
     "output_type": "stream",
     "text": [
      "[2.97744677 3.78302976 2.81682516 4.73471417 3.79299285 4.05918632\n",
      " 2.91766262 4.53062389 4.89425593 4.23078129 4.37074225 4.83194277\n",
      " 4.7349354  4.23577397 4.59344922 3.75866765 4.10413517 4.47236592\n",
      " 4.19967893 2.87900546 4.41304003 4.54742179 3.67191007 3.80992864\n",
      " 4.44329414 4.56833513 4.24792225 4.63718866 4.68078397 4.4229046\n",
      " 4.98858949 3.58964089 4.6578455  4.60840041 4.16650631 4.66807984\n",
      " 4.29423883 3.58771147 3.6675977  4.21720842 4.4356491  4.17952606\n",
      " 4.48737758 4.65141915 4.91408462 4.24001492 3.89731293 2.72212908\n",
      " 3.82009095 4.00274529 4.18100635 4.44093675 4.16469564 4.91468909\n",
      " 3.92656086 4.06991867 4.12676993 4.80015545 5.13971659 3.27024963\n",
      " 5.16273936 4.51022869 4.38344097 4.7896446  4.39272771 4.17240305\n",
      " 4.94224601 3.4655974  3.92181217 3.52898147 4.64876668 4.4440317\n",
      " 3.57945402 3.8682639  2.86665025 4.24741298 4.23132486 3.72791625\n",
      " 4.64551845 3.33846416 4.24802968 3.73664471 3.99993333 3.60869283\n",
      " 4.34711891 4.9213214  4.79167079 5.0856     4.57257378 4.35135477\n",
      " 4.15036981 4.39465087 3.39149587 4.22382072 4.1003702  4.57428333\n",
      " 5.08569821 4.76629905 4.03844054 4.65047113]\n"
     ]
    }
   ],
   "source": [
    "print(randoma)"
   ]
  },
  {
   "cell_type": "markdown",
   "metadata": {},
   "source": [
    "### Agent knowledge"
   ]
  },
  {
   "cell_type": "markdown",
   "metadata": {},
   "source": [
    "Quite often the comments that are left on the survey suggest that company should ensure knowledgable staff do not leave. Fast resolution of customer query is often the result of the agent's knowledge so the third variable is rating of agent in terms of how represents how knowledgable and easy to understand agent is.\n",
    "1 - strongly unsatisfied, 2 - smoewhat unsatisfied, 3- neither satisfied nor unsatisfied, 4- somewhat satisfied, 5 - strongly satisfied.\n",
    "\n",
    "The left-skewed normal distribution can be observed here.\n"
   ]
  },
  {
   "cell_type": "code",
   "execution_count": 28,
   "metadata": {},
   "outputs": [
    {
     "data": {
      "image/png": "[encoded data removed]",
      "text/plain": [
       "<Figure size 432x288 with 1 Axes>"
      ]
     },
     "metadata": {
      "needs_background": "light"
     },
     "output_type": "display_data"
    }
   ],
   "source": [
    "from scipy.stats import skewnorm\n",
    "import matplotlib.pyplot as plt\n",
    "\n",
    "numValues = 100\n",
    "maxValue = 5\n",
    "skewness = -5   #Negative values are left skewed\n",
    "\n",
    "randomk = skewnorm.rvs(a = skewness,loc=maxValue, size=numValues)  #Skewnorm function\n",
    "\n",
    "random = random / max(random)      #Standardize all the vlues between 0 and 1. \n",
    "random = random * maxValue         #Multiply the standardized values by the maximum value.\n",
    "\n",
    "#Plot histogram to check skewness\n",
    "plt.hist(randomk,5,density=True, color = 'red', alpha=1)\n",
    "plt.show()\n"
   ]
  },
  {
   "cell_type": "code",
   "execution_count": 30,
   "metadata": {},
   "outputs": [
    {
     "name": "stdout",
     "output_type": "stream",
     "text": [
      "[3.88227334 2.99042204 3.5229582  4.85853615 2.07087384 5.27460336\n",
      " 4.18020514 3.68055782 3.58589105 4.3893078  4.35048639 4.3603158\n",
      " 4.6258473  3.41340394 3.66601874 4.30552957 4.69335962 3.23164602\n",
      " 3.72401425 4.39030794 3.02176346 4.01647063 2.72777738 4.31013424\n",
      " 3.54753769 2.76802852 4.23958629 4.6593377  4.68350702 5.13892921\n",
      " 5.12320832 1.67688829 3.32534727 4.82409536 4.47692085 4.92556431\n",
      " 5.03946121 4.94953187 3.21507032 3.81936133 3.06935084 4.37876172\n",
      " 3.77405753 3.11328544 4.30594461 3.7149084  4.60038041 4.32036925\n",
      " 4.94885148 4.99402754 4.30866483 4.51986363 3.76680996 3.69316369\n",
      " 3.5704431  4.76258973 4.62171934 5.02569499 4.373851   3.90913142\n",
      " 4.0806123  3.21303314 4.66051823 5.01089807 4.65934487 4.50208783\n",
      " 4.18461609 4.45064036 4.10612286 4.2752421  4.28152423 3.61456596\n",
      " 3.85634615 3.72447029 4.76893152 4.47595668 4.26195542 4.61740433\n",
      " 4.63134023 2.66472976 4.26164455 4.17527666 4.60804403 4.45142964\n",
      " 4.63618934 3.32885385 3.39163917 4.54654211 1.89261513 4.24747067\n",
      " 4.23579431 4.85096983 4.67539904 4.82853475 4.81414534 4.93717567\n",
      " 3.00211445 4.4162912  4.41332067 4.15717993]\n"
     ]
    }
   ],
   "source": [
    "print(randomk)"
   ]
  },
  {
   "cell_type": "markdown",
   "metadata": {},
   "source": [
    "### Overall Satisfaction"
   ]
  },
  {
   "cell_type": "markdown",
   "metadata": {},
   "source": [
    "This call centre aims to offer a very high service and employees are assessed indirectly via the survey. The quality of the service is rated based on the answers to the below question:\n",
    "\n",
    "*How would you rate the overall quality of the service you received from the Agent \n",
    " - Below your expectations (select 1)\n",
    " - Satisfied your expectations (select 2)\n",
    " - Exceeded your expectations (select 3)\n",
    " \n",
    " This categorical data will be generated using normal distribution. As majority of the ratig is at 3 (exceeded expectation) - the distribution is skewed.\n"
   ]
  },
  {
   "cell_type": "code",
   "execution_count": 132,
   "metadata": {},
   "outputs": [
    {
     "data": {
      "image/png": "[encoded data removed]",
      "text/plain": [
       "<Figure size 201.6x288 with 1 Axes>"
      ]
     },
     "metadata": {},
     "output_type": "display_data"
    }
   ],
   "source": [
    "g = sns.catplot(x=\"Overall Satisfaction\",\n",
    "                    data=df, kind=\"count\",\n",
    "                    height=4, aspect=.7)"
   ]
  },
  {
   "cell_type": "code",
   "execution_count": 60,
   "metadata": {},
   "outputs": [
    {
     "data": {
      "image/png": "[encoded data removed]",
      "text/plain": [
       "<Figure size 432x288 with 1 Axes>"
      ]
     },
     "metadata": {
      "needs_background": "light"
     },
     "output_type": "display_data"
    }
   ],
   "source": [
    "from scipy.stats import skewnorm\n",
    "import matplotlib.pyplot as plt\n",
    "\n",
    "numValues = 100\n",
    "maxValue = 3\n",
    "skewness = -3\n",
    "\n",
    "\n",
    "randomo = skewnorm.rvs(a = skewness,loc=maxValue, size=numValues)  #Skewnorm function\n",
    "\n",
    "random = random / max(random)      #Standardize all the vlues between 0 and 1. \n",
    "random = random * maxValue         #Multiply the standardized values by the maximum value.\n",
    "\n",
    "#Plot histogram to check skewness\n",
    "plt.hist(randomo,5,density=True, color = 'red', alpha=1)\n",
    "plt.show()"
   ]
  },
  {
   "cell_type": "markdown",
   "metadata": {},
   "source": [
    "#### Generate random numbers of Overall Satisfaction"
   ]
  },
  {
   "cell_type": "code",
   "execution_count": 34,
   "metadata": {},
   "outputs": [
    {
     "name": "stdout",
     "output_type": "stream",
     "text": [
      "[ 1.35268948  2.99941896  1.93298723  0.94115644  1.39813084  1.97652902\n",
      "  3.17786363  1.97025952  1.09643611  1.81990114  2.65335018  2.73115366\n",
      "  2.19636297  1.55500955  2.93794831  1.69339023  0.66069713  2.71410758\n",
      "  2.65853586  2.14517966  3.01116859  2.66095686  0.78250687  1.71401913\n",
      "  2.5805933   2.71924991  1.30218212  2.7316612   2.49647739  2.7790955\n",
      "  1.67860133  2.64215456  1.79791506  2.64007417  2.4888827   2.49024672\n",
      "  2.16018926  2.47312037  2.73395692  2.06160547  2.26566019  2.36334363\n",
      "  1.84870412  3.1704117   2.79687133  2.40091576  2.16357131  2.45597447\n",
      "  2.59888001  1.2514954   2.67635396  1.97225007  2.56915126  2.74758984\n",
      "  2.80648721  2.81270186  1.51485851  2.27811604  2.49345767  1.8705287\n",
      " -0.46391711  3.22536841  2.53514091  2.80363049  2.89701432  2.90186519\n",
      "  2.03594063  2.68002273  1.29353242  1.27594015  2.18117228  1.34440572\n",
      "  2.55031408  2.07529003  2.3674701   2.5718936   3.27006382  3.09038005\n",
      "  3.08211467  2.52493006  2.08580178  2.73665507  2.55269222  1.95487051\n",
      "  2.65556448  3.31693374  1.33338817  3.75049925  2.97438469  1.22792536\n",
      "  2.93840668  2.8090407   1.46724995  2.63392179  2.36345438  3.3801368\n",
      "  1.28862583  2.63487191  2.8189881   3.01724829]\n"
     ]
    }
   ],
   "source": [
    "print(randomo)"
   ]
  },
  {
   "cell_type": "markdown",
   "metadata": {},
   "source": [
    "### Creating dataframe"
   ]
  },
  {
   "cell_type": "code",
   "execution_count": 86,
   "metadata": {},
   "outputs": [
    {
     "ename": "SyntaxError",
     "evalue": "invalid syntax (<ipython-input-86-abc283789b9b>, line 2)",
     "output_type": "error",
     "traceback": [
      "\u001b[1;36m  File \u001b[1;32m\"<ipython-input-86-abc283789b9b>\"\u001b[1;36m, line \u001b[1;32m2\u001b[0m\n\u001b[1;33m    df2.head()\u001b[0m\n\u001b[1;37m      ^\u001b[0m\n\u001b[1;31mSyntaxError\u001b[0m\u001b[1;31m:\u001b[0m invalid syntax\n"
     ]
    }
   ],
   "source": [
    "df2 = pd.DataFrame(np.random.randint(0,100,size=(100, 4)), columns=list('\"Satisfaction from timely query resolution : s\", \"Agent attitude\" : a, \"Agent knowledge\" : k, \"Overall Satisfaction\" : os')\n",
    "df2.head()"
   ]
  },
  {
   "cell_type": "code",
   "execution_count": 52,
   "metadata": {
    "scrolled": true
   },
   "outputs": [
    {
     "data": {
      "text/plain": [
       "<bound method NDFrame.head of      r   a   n   d   o   m   a\n",
       "0   16  19   2   0  58  44   1\n",
       "1   40  81  73  93  33  85  92\n",
       "2   39  31  47  85  77  68  80\n",
       "3   36  48  76  88  83  23  19\n",
       "4   54  56  25  83  42   2  75\n",
       "5   22  35  72  89  53  67  48\n",
       "6   79  53  60  37  79  28  46\n",
       "7   84  15  67  29  62  22  73\n",
       "8   73  36  51  88  28  74  70\n",
       "9   33  59  31  24  11  24  96\n",
       "10  46   2  88  86  72  44  42\n",
       "11  87  46  47  19  66  62  74\n",
       "12  57  42   1  95  58  63   7\n",
       "13  56   3  71  19   7  85  65\n",
       "14  87   4  83  38  37   3  17\n",
       "15   4  34  99   8  94  94  17\n",
       "16  46  75  31  61  34   0  91\n",
       "17  65  58  51  20  58  73  95\n",
       "18  44  72  96  38  83  98   2\n",
       "19  24  63  22  15  64  28  39\n",
       "20  90   4   4  31  95  88  61\n",
       "21  57  22  11  37  21  98  94\n",
       "22  97   6  11  54  78  98  54\n",
       "23  76  83  37  81  89  32  85\n",
       "24   2  15   3  24  96  23  38\n",
       "25   1  20  67  67  11  66  54\n",
       "26  65  54  12  96  10  98  54\n",
       "27  42  43  63  96  30  98  39\n",
       "28  12  85  12   4  43   3  75\n",
       "29  68  41  69  72   5  80  53\n",
       "..  ..  ..  ..  ..  ..  ..  ..\n",
       "70  12  19  16  71  82   9  40\n",
       "71  21  97  24   2   3  18  26\n",
       "72  85  66  75  91  59  67  38\n",
       "73  66  51   8  18  33  65  41\n",
       "74  98  87  26  17  54  79  32\n",
       "75  64  22  32   6  80  53  49\n",
       "76  61  12  60  42   9  19  44\n",
       "77  76   9   2   6  90  13  24\n",
       "78  75  93  45  17  34  89  14\n",
       "79  50   5  28  86  56  71  72\n",
       "80  46  67  42  23  83  54  39\n",
       "81  98  33  49  32  23  82  84\n",
       "82  72  82  51   9  46   1   7\n",
       "83  60  38  73  68   6  54  97\n",
       "84  51  93  96  54  94  72   3\n",
       "85  64  25  73   5  28  96  60\n",
       "86  86  17  57  23  20  19   7\n",
       "87  70  16  23  18  10  12  16\n",
       "88  51  47  60  19  23  35  45\n",
       "89  30  68  86  26  53  63  63\n",
       "90  21   0  35  10  22  43  83\n",
       "91  88  58  64  42  37  11  93\n",
       "92   4   4  59   3  72   4  45\n",
       "93   7  78  23  95  81  22  85\n",
       "94  92  89  66   6  92  62  13\n",
       "95  55  53  69   7  93  19  98\n",
       "96  98  73  30  88  88  55  29\n",
       "97  16  36  58  47  78  16  21\n",
       "98  18  54  19   7  51  20  52\n",
       "99  47  43  78  22  45  39   7\n",
       "\n",
       "[100 rows x 7 columns]>"
      ]
     },
     "execution_count": 52,
     "metadata": {},
     "output_type": "execute_result"
    }
   ],
   "source": [
    "df.head"
   ]
  },
  {
   "cell_type": "markdown",
   "metadata": {},
   "source": [
    "df.head"
   ]
  },
  {
   "cell_type": "markdown",
   "metadata": {},
   "source": [
    "### KNN Nearest Neighbors prediction"
   ]
  },
  {
   "cell_type": "markdown",
   "metadata": {},
   "source": [
    "### Data Visualization"
   ]
  },
  {
   "cell_type": "code",
   "execution_count": 60,
   "metadata": {},
   "outputs": [
    {
     "data": {
      "text/plain": [
       "<seaborn.axisgrid.PairGrid at 0x1892325ca20>"
      ]
     },
     "execution_count": 60,
     "metadata": {},
     "output_type": "execute_result"
    },
    {
     "data": {
      "image/png": "[encoded data removed]",
      "text/plain": [
       "<Figure size 692.125x540 with 12 Axes>"
      ]
     },
     "metadata": {
      "needs_background": "light"
     },
     "output_type": "display_data"
    }
   ],
   "source": [
    "# Load the seaborn package\n",
    "sns.pairplot(df, hue='Overall Satisfaction')"
   ]
  },
  {
   "cell_type": "markdown",
   "metadata": {},
   "source": [
    "### Set inputs and outputs"
   ]
  },
  {
   "cell_type": "code",
   "execution_count": 36,
   "metadata": {},
   "outputs": [],
   "source": [
    "inputs = df[['Satisfaction from timely query resolution', 'Agent attitude', 'Agent knowledge']]\n",
    "outputs = df['Overall Satisfaction']"
   ]
  },
  {
   "cell_type": "markdown",
   "metadata": {},
   "source": [
    "### Classifier "
   ]
  },
  {
   "cell_type": "code",
   "execution_count": 37,
   "metadata": {},
   "outputs": [],
   "source": [
    "# set KNN Classifier to 2\n",
    "knn = nei.KNeighborsClassifier(n_neighbors=2)"
   ]
  },
  {
   "cell_type": "markdown",
   "metadata": {},
   "source": [
    "### Fit"
   ]
  },
  {
   "cell_type": "code",
   "execution_count": 38,
   "metadata": {},
   "outputs": [
    {
     "data": {
      "text/plain": [
       "KNeighborsClassifier(algorithm='auto', leaf_size=30, metric='minkowski',\n",
       "                     metric_params=None, n_jobs=None, n_neighbors=2, p=2,\n",
       "                     weights='uniform')"
      ]
     },
     "execution_count": 38,
     "metadata": {},
     "output_type": "execute_result"
    }
   ],
   "source": [
    "knn.fit(inputs, outputs)"
   ]
  },
  {
   "cell_type": "markdown",
   "metadata": {},
   "source": [
    "### Predict"
   ]
  },
  {
   "cell_type": "code",
   "execution_count": 39,
   "metadata": {},
   "outputs": [
    {
     "data": {
      "text/plain": [
       "Satisfaction from timely query resolution                        5\n",
       "Agent attitude                                                   5\n",
       "Agent knowledge                                                  5\n",
       "Overall Satisfaction                         Exceeded expectations\n",
       "Name: 75, dtype: object"
      ]
     },
     "execution_count": 39,
     "metadata": {},
     "output_type": "execute_result"
    }
   ],
   "source": [
    "df.loc[75]"
   ]
  },
  {
   "cell_type": "code",
   "execution_count": 40,
   "metadata": {},
   "outputs": [
    {
     "data": {
      "text/plain": [
       "array(['Satisfied'], dtype=object)"
      ]
     },
     "execution_count": 40,
     "metadata": {},
     "output_type": "execute_result"
    }
   ],
   "source": [
    "knn.predict([[3, 3, 4]])"
   ]
  },
  {
   "cell_type": "markdown",
   "metadata": {},
   "source": [
    "### Evaluate"
   ]
  },
  {
   "cell_type": "code",
   "execution_count": 54,
   "metadata": {},
   "outputs": [
    {
     "data": {
      "text/plain": [
       "97"
      ]
     },
     "execution_count": 54,
     "metadata": {},
     "output_type": "execute_result"
    }
   ],
   "source": [
    "(knn.predict(inputs) == outputs).sum()"
   ]
  },
  {
   "cell_type": "code",
   "execution_count": 55,
   "metadata": {},
   "outputs": [],
   "source": [
    "inputs_train, inputs_test, outputs_train, outputs_test = mod.train_test_split(inputs, outputs, test_size=0.33)"
   ]
  },
  {
   "cell_type": "code",
   "execution_count": 56,
   "metadata": {},
   "outputs": [
    {
     "data": {
      "text/plain": [
       "KNeighborsClassifier(algorithm='auto', leaf_size=30, metric='minkowski',\n",
       "                     metric_params=None, n_jobs=None, n_neighbors=2, p=2,\n",
       "                     weights='uniform')"
      ]
     },
     "execution_count": 56,
     "metadata": {},
     "output_type": "execute_result"
    }
   ],
   "source": [
    "# Recreate the classifier\n",
    "knn = nei.KNeighborsClassifier(n_neighbors=2)\n",
    "knn.fit(inputs_train, outputs_train)"
   ]
  },
  {
   "cell_type": "code",
   "execution_count": 57,
   "metadata": {},
   "outputs": [
    {
     "data": {
      "text/plain": [
       "33"
      ]
     },
     "execution_count": 57,
     "metadata": {},
     "output_type": "execute_result"
    }
   ],
   "source": [
    "(knn.predict(inputs_test) == outputs_test).sum()"
   ]
  },
  {
   "cell_type": "markdown",
   "metadata": {},
   "source": [
    "### End"
   ]
  },
  {
   "cell_type": "code",
   "execution_count": null,
   "metadata": {},
   "outputs": [],
   "source": []
  }
 ],
 "metadata": {
  "kernelspec": {
   "display_name": "Python 3",
   "language": "python",
   "name": "python3"
  },
  "language_info": {
   "codemirror_mode": {
    "name": "ipython",
    "version": 3
   },
   "file_extension": ".py",
   "mimetype": "text/x-python",
   "name": "python",
   "nbconvert_exporter": "python",
   "pygments_lexer": "ipython3",
   "version": "3.7.3"
  }
 },
 "nbformat": 4,
 "nbformat_minor": 2
}
