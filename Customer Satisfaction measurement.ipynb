{
 "cells": [
  {
   "cell_type": "markdown",
   "metadata": {},
   "source": [
    "## Customer satisfaction measurement"
   ]
  },
  {
   "cell_type": "markdown",
   "metadata": {},
   "source": [
    "#### References"
   ]
  },
  {
   "cell_type": "markdown",
   "metadata": {},
   "source": [
    "McGuire,P., 2019. *Will artificial intelligence kill the contact centre?*, 7 March 2019. [Online]. Available from: https://www.irishtimes.com/business/innovation/will-artificial-intelligence-kill-the-contact-centre-1.3811094"
   ]
  },
  {
   "cell_type": "markdown",
   "metadata": {},
   "source": [
    "Chicu,D, Ryan, G. and Valverde-Aparicio, M., 2016. 'Determinants  of  customer  satisfaction  in  call centres'. *European Accounting and Management Review Issue 2 (2016)* [Online]. Available from https://www.researchgate.net/publication/304792295_Determinants_of_customer_satisfaction_in_call_centres "
   ]
  },
  {
   "cell_type": "markdown",
   "metadata": {},
   "source": [
    "*How is Average Handling Time (AHT) Distributed? It is Not How you Think!*, 8 February 2017 [Online]. Available from: https://www.callcentrehelper.com/how-is-average-handling-time-distributed-it-is-not-how-you-think-97688.htm"
   ]
  },
  {
   "cell_type": "markdown",
   "metadata": {},
   "source": [
    "*Logarithmic distribution*, 22 September 2019 [Online]. Available from: https://en.wikipedia.org/wiki/Logarithmic_distribution"
   ]
  },
  {
   "cell_type": "markdown",
   "metadata": {},
   "source": [
    "SciPy Docs, 24 July 2018 [Online]. Available from: https://docs.scipy.org/doc/numpy-1.15.0/reference/generated/numpy.random.binomial.html"
   ]
  },
  {
   "cell_type": "markdown",
   "metadata": {},
   "source": [
    "Longelin, J., *The 10 Best Metrics To Measure Call Center Agent Productivity* 29 August 2018. [Online]. Available from: https://blog.playvox.com/metrics-to-measure-call-center-agent-productivity"
   ]
  },
  {
   "cell_type": "markdown",
   "metadata": {},
   "source": [
    "Stackoverflow, 21 July 2014 *Create random numbers with left skewed probability distribution* [Online]. Available from \n",
    "https://stackoverflow.com/questions/24854965/create-random-numbers-with-left-skewed-probability-distribution"
   ]
  },
  {
   "cell_type": "markdown",
   "metadata": {},
   "source": [
    "McLoughlin, I., 25 October 2018 *'Testing the classifier'* [Online]. Available from: https://web.microsoftstream.com/video/6934f43d-8cf9-4328-9be4-54ba7c593443"
   ]
  },
  {
   "cell_type": "markdown",
   "metadata": {},
   "source": [
    "Sarker, T. 19 December 2018 *'Synthetic data generation — a must-have skill for new data scientists'* [Online]. Available from: https://towardsdatascience.com/synthetic-data-generation-a-must-have-skill-for-new-data-scientists-915896c0c1ae"
   ]
  },
  {
   "cell_type": "markdown",
   "metadata": {},
   "source": [
    "## Introduction\n",
    "\n",
    "On estimate 60,000 people work in contact centres and shared service in Ireland, with the average salary at just under €30,000 (McGuire 2019). Companies, big and small, are constantly looking for the way to improve customer service satisfatcion hence monitoring performance of the customer service centre agents is on top of the agenda for customer service management teams. \n",
    "\n",
    "Customer satisfaction  may  be affected by factors such as price, product performance, and service (Bitner et al., 1990; Brown and Maxwell, 2002; Day, 1984; Parasuraman et al., 1988). Most  studies  addressing  the  relationship  between  service  quality  and  customer satisfaction suggest a positive link between the two (Sharma et al., 2009; Upal and Dhaka, 2008).  \n",
    "Furthermore some reseachers suggest customer satisfaction depends also on employee ability to ensure first call resolution (Abdullateef et al., 2011; Aksin et al., 2007; Feinberg et al., 2000) or service level (Cheong et al., 2008).\n",
    "\n",
    "This project will inestigate the satisfaction of customers based on the service they received from the agent. \n",
    "This SurveyM online poll was conducted between Oct 1-31, 2019 among customers who called the agents and received the service. The total of 100 surveys were receved in that period. Each customer had to rate in the scale from 1 to 5 timely resolution, agent's knowledge, agent's attitude. The final question about overal customer satisfaction can be rated from 1 to 3 (1 - below expectation, 2 - satisfied, 3 - exceeded expectation).\n",
    "\n",
    "\n",
    "The call centre is based in Ireland and the it serves customers from around the globe. Agents to do not sell any productes but rather assist callers with website functionality and technical troubleshooting. The customer satisfaction is the main objective in their role.  \n"
   ]
  },
  {
   "cell_type": "markdown",
   "metadata": {},
   "source": [
    "## Data import"
   ]
  },
  {
   "cell_type": "markdown",
   "metadata": {},
   "source": [
    "### Libraries"
   ]
  },
  {
   "cell_type": "code",
   "execution_count": 118,
   "metadata": {},
   "outputs": [],
   "source": [
    "import sklearn.neighbors as nei\n",
    "import pandas as pd\n",
    "import seaborn as sns\n",
    "import numpy as np\n",
    "import sklearn.model_selection as mod\n",
    "import matplotlib.pyplot as plt\n",
    "import scipy.stats as ss\n",
    "from scipy.stats import skewnorm"
   ]
  },
  {
   "cell_type": "markdown",
   "metadata": {},
   "source": [
    "### Load Data "
   ]
  },
  {
   "cell_type": "code",
   "execution_count": 119,
   "metadata": {},
   "outputs": [],
   "source": [
    "# Load data set\n",
    "df = pd.read_excel (r'C:\\Users\\user\\Documents\\Kasia - Data Analytics course\\Projects\\DAProg2019\\ProgDA_Project2019\\Survey results.xlsx')"
   ]
  },
  {
   "cell_type": "code",
   "execution_count": 120,
   "metadata": {},
   "outputs": [
    {
     "data": {
      "text/html": [
       "<div>\n",
       "<style scoped>\n",
       "    .dataframe tbody tr th:only-of-type {\n",
       "        vertical-align: middle;\n",
       "    }\n",
       "\n",
       "    .dataframe tbody tr th {\n",
       "        vertical-align: top;\n",
       "    }\n",
       "\n",
       "    .dataframe thead th {\n",
       "        text-align: right;\n",
       "    }\n",
       "</style>\n",
       "<table border=\"1\" class=\"dataframe\">\n",
       "  <thead>\n",
       "    <tr style=\"text-align: right;\">\n",
       "      <th></th>\n",
       "      <th>Satisfaction from timely query resolution</th>\n",
       "      <th>Agent attitude</th>\n",
       "      <th>Agent knowledge</th>\n",
       "      <th>Overall Satisfaction</th>\n",
       "    </tr>\n",
       "  </thead>\n",
       "  <tbody>\n",
       "    <tr>\n",
       "      <th>0</th>\n",
       "      <td>5</td>\n",
       "      <td>5</td>\n",
       "      <td>5</td>\n",
       "      <td>Exceeded expectations</td>\n",
       "    </tr>\n",
       "    <tr>\n",
       "      <th>1</th>\n",
       "      <td>5</td>\n",
       "      <td>5</td>\n",
       "      <td>5</td>\n",
       "      <td>Exceeded expectations</td>\n",
       "    </tr>\n",
       "  </tbody>\n",
       "</table>\n",
       "</div>"
      ],
      "text/plain": [
       "   Satisfaction from timely query resolution  Agent attitude  Agent knowledge  \\\n",
       "0                                          5               5                5   \n",
       "1                                          5               5                5   \n",
       "\n",
       "    Overall Satisfaction  \n",
       "0  Exceeded expectations  \n",
       "1  Exceeded expectations  "
      ]
     },
     "execution_count": 120,
     "metadata": {},
     "output_type": "execute_result"
    }
   ],
   "source": [
    "df.head(n=2)"
   ]
  },
  {
   "cell_type": "code",
   "execution_count": 121,
   "metadata": {},
   "outputs": [
    {
     "data": {
      "text/html": [
       "<div>\n",
       "<style scoped>\n",
       "    .dataframe tbody tr th:only-of-type {\n",
       "        vertical-align: middle;\n",
       "    }\n",
       "\n",
       "    .dataframe tbody tr th {\n",
       "        vertical-align: top;\n",
       "    }\n",
       "\n",
       "    .dataframe thead th {\n",
       "        text-align: right;\n",
       "    }\n",
       "</style>\n",
       "<table border=\"1\" class=\"dataframe\">\n",
       "  <thead>\n",
       "    <tr style=\"text-align: right;\">\n",
       "      <th></th>\n",
       "      <th>Satisfaction from timely query resolution</th>\n",
       "      <th>Agent attitude</th>\n",
       "      <th>Agent knowledge</th>\n",
       "      <th>Overall Satisfaction</th>\n",
       "    </tr>\n",
       "  </thead>\n",
       "  <tbody>\n",
       "    <tr>\n",
       "      <th>99</th>\n",
       "      <td>5</td>\n",
       "      <td>5</td>\n",
       "      <td>5</td>\n",
       "      <td>Exceeded expectations</td>\n",
       "    </tr>\n",
       "    <tr>\n",
       "      <th>100</th>\n",
       "      <td>5</td>\n",
       "      <td>5</td>\n",
       "      <td>5</td>\n",
       "      <td>Exceeded expectations</td>\n",
       "    </tr>\n",
       "  </tbody>\n",
       "</table>\n",
       "</div>"
      ],
      "text/plain": [
       "     Satisfaction from timely query resolution  Agent attitude  \\\n",
       "99                                           5               5   \n",
       "100                                          5               5   \n",
       "\n",
       "     Agent knowledge   Overall Satisfaction  \n",
       "99                 5  Exceeded expectations  \n",
       "100                5  Exceeded expectations  "
      ]
     },
     "execution_count": 121,
     "metadata": {},
     "output_type": "execute_result"
    }
   ],
   "source": [
    "df.tail(n=2)"
   ]
  },
  {
   "cell_type": "code",
   "execution_count": 122,
   "metadata": {},
   "outputs": [
    {
     "data": {
      "text/html": [
       "<div>\n",
       "<style scoped>\n",
       "    .dataframe tbody tr th:only-of-type {\n",
       "        vertical-align: middle;\n",
       "    }\n",
       "\n",
       "    .dataframe tbody tr th {\n",
       "        vertical-align: top;\n",
       "    }\n",
       "\n",
       "    .dataframe thead th {\n",
       "        text-align: right;\n",
       "    }\n",
       "</style>\n",
       "<table border=\"1\" class=\"dataframe\">\n",
       "  <thead>\n",
       "    <tr style=\"text-align: right;\">\n",
       "      <th></th>\n",
       "      <th>Satisfaction from timely query resolution</th>\n",
       "      <th>Agent attitude</th>\n",
       "      <th>Agent knowledge</th>\n",
       "    </tr>\n",
       "  </thead>\n",
       "  <tbody>\n",
       "    <tr>\n",
       "      <th>count</th>\n",
       "      <td>101.000000</td>\n",
       "      <td>101.000000</td>\n",
       "      <td>101.000000</td>\n",
       "    </tr>\n",
       "    <tr>\n",
       "      <th>mean</th>\n",
       "      <td>4.504950</td>\n",
       "      <td>4.584158</td>\n",
       "      <td>4.514851</td>\n",
       "    </tr>\n",
       "    <tr>\n",
       "      <th>std</th>\n",
       "      <td>1.092005</td>\n",
       "      <td>1.022422</td>\n",
       "      <td>1.073442</td>\n",
       "    </tr>\n",
       "    <tr>\n",
       "      <th>min</th>\n",
       "      <td>1.000000</td>\n",
       "      <td>1.000000</td>\n",
       "      <td>1.000000</td>\n",
       "    </tr>\n",
       "    <tr>\n",
       "      <th>25%</th>\n",
       "      <td>5.000000</td>\n",
       "      <td>5.000000</td>\n",
       "      <td>5.000000</td>\n",
       "    </tr>\n",
       "    <tr>\n",
       "      <th>50%</th>\n",
       "      <td>5.000000</td>\n",
       "      <td>5.000000</td>\n",
       "      <td>5.000000</td>\n",
       "    </tr>\n",
       "    <tr>\n",
       "      <th>75%</th>\n",
       "      <td>5.000000</td>\n",
       "      <td>5.000000</td>\n",
       "      <td>5.000000</td>\n",
       "    </tr>\n",
       "    <tr>\n",
       "      <th>max</th>\n",
       "      <td>5.000000</td>\n",
       "      <td>5.000000</td>\n",
       "      <td>5.000000</td>\n",
       "    </tr>\n",
       "  </tbody>\n",
       "</table>\n",
       "</div>"
      ],
      "text/plain": [
       "       Satisfaction from timely query resolution  Agent attitude  \\\n",
       "count                                 101.000000      101.000000   \n",
       "mean                                    4.504950        4.584158   \n",
       "std                                     1.092005        1.022422   \n",
       "min                                     1.000000        1.000000   \n",
       "25%                                     5.000000        5.000000   \n",
       "50%                                     5.000000        5.000000   \n",
       "75%                                     5.000000        5.000000   \n",
       "max                                     5.000000        5.000000   \n",
       "\n",
       "       Agent knowledge  \n",
       "count       101.000000  \n",
       "mean          4.514851  \n",
       "std           1.073442  \n",
       "min           1.000000  \n",
       "25%           5.000000  \n",
       "50%           5.000000  \n",
       "75%           5.000000  \n",
       "max           5.000000  "
      ]
     },
     "execution_count": 122,
     "metadata": {},
     "output_type": "execute_result"
    }
   ],
   "source": [
    "df.describe()"
   ]
  },
  {
   "cell_type": "markdown",
   "metadata": {},
   "source": [
    "## Variables"
   ]
  },
  {
   "cell_type": "markdown",
   "metadata": {},
   "source": [
    "### Satisfaction from timely query resolution"
   ]
  },
  {
   "cell_type": "markdown",
   "metadata": {},
   "source": [
    "While many other metrics can reveal areas where agents are falling short, the customer satisfaction score is the most direct measure to tell if call center is providing the support the customers need (Longelin, 2018).\n",
    "\n",
    "In the survey the customer satisfaction is determined by the answer to the below question: \n",
    "\n",
    "*On the scale from 1 to 5 how satisfied or dissatisfied are you with how the Agent resolved your query in a timely manner? \n",
    "(1-Very dissatisfied, 2-Somewhat dissatisfied, 3- Neither satisfied nor dissatisfied, 4 - Somewhat satisfied, 5 - Very satisfied)\n",
    " \n",
    "This categorical variable has the average score of 4.50 out of 5. The left-skewed distribution can be observed (also called negative-skew).\n",
    "\n",
    "Scipy package can be used to fit the data into a skew-normal distribution."
   ]
  },
  {
   "cell_type": "code",
   "execution_count": 123,
   "metadata": {},
   "outputs": [
    {
     "data": {
      "image/png": "[encoded data removed]",
      "text/plain": [
       "<Figure size 432x288 with 1 Axes>"
      ]
     },
     "metadata": {},
     "output_type": "display_data"
    }
   ],
   "source": [
    "numValues = 100\n",
    "maxValue = int\n",
    "maxValue = 5\n",
    "skewness = -5   #Negative values are left skewed\n",
    "\n",
    "s = skewnorm.rvs(a = skewness,loc=maxValue, size=numValues)  #Skewnorm function\n",
    "\n",
    "random = random / max(random)      #Standadize all the vlues between 0 and 1. \n",
    "random = random * maxValue         #Multiply the standardized values by the maximum value.\n",
    "\n",
    "#Plot histogram to check skewness\n",
    "plt.hist(sat,5,density=True, color = 'red', alpha=1)\n",
    "plt.show()"
   ]
  },
  {
   "cell_type": "code",
   "execution_count": 102,
   "metadata": {},
   "outputs": [
    {
     "name": "stdout",
     "output_type": "stream",
     "text": [
      "[3.76434412 4.09832203 4.6537048  4.66919992 4.29012459 4.44707031\n",
      " 3.58973853 4.00569249 4.55722079 4.73598627 4.50875846 4.8758913\n",
      " 4.83603497 4.50021803 2.60848643 4.52358095 5.07467212 4.6669589\n",
      " 4.97861789 4.88288728 4.40277057 4.3532571  4.77856761 3.83222188\n",
      " 3.23256133 3.34015538 5.11344067 3.44784177 4.33267344 4.39076526\n",
      " 4.93873387 4.86056752 3.37765233 3.80055275 4.07776311 4.82465655\n",
      " 5.11826114 4.55442609 4.23321472 2.86269985 4.96072847 4.69966093\n",
      " 4.96059227 4.35396482 3.90594268 5.02203447 2.94071749 3.47553287\n",
      " 2.97548654 4.57065151 3.20679097 4.49628346 4.31956328 4.23123451\n",
      " 5.15282931 3.49806478 3.9343821  4.08924491 4.69590183 5.08608646\n",
      " 5.02553499 4.77917906 4.92530535 4.3572452  4.83655463 4.66233611\n",
      " 4.27326843 3.33027678 4.50955141 3.86661026 3.63197156 4.55167907\n",
      " 4.90571849 4.47838145 4.46833052 5.19865519 2.67421687 3.50940135\n",
      " 4.1437641  4.35822142 4.83842948 3.99683116 4.25872259 2.9231388\n",
      " 4.7239299  4.81829301 4.84043638 3.34850391 4.96021056 4.63703037\n",
      " 4.28829175 3.64054851 4.2623961  3.77190028 5.03108409 4.35176932\n",
      " 3.73076605 4.36467225 3.79351283 4.28045373]\n"
     ]
    }
   ],
   "source": [
    "print (s)"
   ]
  },
  {
   "cell_type": "markdown",
   "metadata": {},
   "source": [
    "### Agent attitude"
   ]
  },
  {
   "cell_type": "markdown",
   "metadata": {},
   "source": [
    "Employees are the brand ambassadors and their behaviour towards the customers have significant impact on how the company is perceived. The agent's attitude (customer  orientation,  responsiveness) is important indicator of how happy the customers are.\n",
    "\n",
    "The data that measure the agent' behaviour is gather as the answer to the following question:\n",
    "*In the scade from 1 to 5 rate if you agree with the below statement:\n",
    "the Agent was courteous and professional  \n",
    "1 - Strongly Disagree \n",
    "2 - Disagree \n",
    "3 - Neutral \n",
    "4 - Agree \n",
    "5 - Strongly Agree \n",
    "\n",
    "The left-skewed distribution can be observed here (also called negative-skew).\n",
    "Here is a histogram and a quantile-quantile plot for a left-skewed distribution."
   ]
  },
  {
   "cell_type": "code",
   "execution_count": 128,
   "metadata": {},
   "outputs": [
    {
     "data": {
      "image/png": "[encoded data removed]",
      "text/plain": [
       "<Figure size 432x288 with 1 Axes>"
      ]
     },
     "metadata": {},
     "output_type": "display_data"
    }
   ],
   "source": [
    "numValues = 100\n",
    "minValue = 1\n",
    "maxValue = 5\n",
    "skewness = -5   #Negative values are left skewed\n",
    "\n",
    "a = skewnorm.rvs(a = skewness,loc=maxValue, size=numValues)  #Skewnorm function\n",
    "\n",
    "random = random / max(random)      #Standadize all the vlues between 0 and 1. \n",
    "random = random * maxValue         #Multiply the standardized values by the maximum value.\n",
    "\n",
    "#Plot histogram to check skewness\n",
    "plt.hist(random,5,density=True, color = 'red', alpha=1)\n",
    "plt.show()"
   ]
  },
  {
   "cell_type": "code",
   "execution_count": 129,
   "metadata": {},
   "outputs": [
    {
     "name": "stdout",
     "output_type": "stream",
     "text": [
      "[4.71790001 3.8266617  4.80137226 4.53882277 4.59333527 4.46639565\n",
      " 5.01001662 4.87382101 4.46918165 3.9041562  4.63527959 4.72970388\n",
      " 1.780388   3.9664326  3.89341442 4.56970631 4.79400955 3.60383966\n",
      " 4.8174189  4.20895601 4.44328126 4.16872957 2.98354897 3.65231261\n",
      " 3.34235316 3.68744925 4.91623129 4.61049875 4.46879828 4.94734185\n",
      " 4.79419919 4.67658303 4.52053224 4.78808211 2.6583764  4.81012446\n",
      " 3.62360787 4.66398287 3.12658184 5.10439777 4.99666414 4.62067456\n",
      " 4.46222937 3.53352613 3.16790361 2.42512169 4.07304255 4.43662902\n",
      " 4.60663563 3.69530741 4.76127756 4.07442827 4.71907419 3.57093876\n",
      " 4.54453756 3.91616297 4.48914876 4.88200118 4.67267243 4.2028524\n",
      " 5.03746735 3.43408062 4.74826787 2.21760345 4.4186314  4.97260263\n",
      " 3.72628761 4.83390032 3.3393318  2.89923557 4.55911637 4.45337397\n",
      " 3.68847537 5.21283837 4.83195493 4.06699544 3.37520571 4.44752168\n",
      " 4.97254763 5.200476   4.17937949 4.69410631 3.79402187 4.79822298\n",
      " 4.8766586  4.34369264 2.70159619 3.67769413 4.13424557 4.65656087\n",
      " 4.14207664 5.15764172 4.41506297 4.56609786 3.92516886 5.04716142\n",
      " 3.68537611 4.44338543 3.50899177 4.86440773]\n"
     ]
    }
   ],
   "source": [
    "print(a)"
   ]
  },
  {
   "cell_type": "markdown",
   "metadata": {},
   "source": [
    "### Agent knowledge"
   ]
  },
  {
   "cell_type": "markdown",
   "metadata": {},
   "source": [
    "Quite often the comments that are left on the survey suggest that company should ensure knowledgable staff do not leave. Fast resolution of customer query is often the result of the agent's knowledge so the third variable is rating of agent in terms of how represents how knowledgable and easy to understand agent is.\n",
    "1 - strongly unsatisfied, 2 - smoewhat unsatisfied, 3- neither satisfied nor unsatisfied, 4- somewhat satisfied, 5 - strongly satisfied.\n",
    "\n",
    "The left-skewed normal distribution can be observed here.\n"
   ]
  },
  {
   "cell_type": "code",
   "execution_count": 130,
   "metadata": {},
   "outputs": [
    {
     "data": {
      "image/png": "[encoded data removed]",
      "text/plain": [
       "<Figure size 432x288 with 1 Axes>"
      ]
     },
     "metadata": {},
     "output_type": "display_data"
    }
   ],
   "source": [
    "from scipy.stats import skewnorm\n",
    "import matplotlib.pyplot as plt\n",
    "\n",
    "numValues = 100\n",
    "minValue = 1\n",
    "maxValue = 5\n",
    "skewness = -5   #Negative values are left skewed\n",
    "\n",
    "k = skewnorm.rvs(a = skewness,loc=maxValue, size=numValues)  #Skewnorm function\n",
    "\n",
    "random = random / max(random)      #Standardize all the vlues between 0 and 1. \n",
    "random = random * maxValue         #Multiply the standardized values by the maximum value.\n",
    "\n",
    "#Plot histogram to check skewness\n",
    "plt.hist(random,5,density=True, color = 'red', alpha=1)\n",
    "plt.show()\n"
   ]
  },
  {
   "cell_type": "code",
   "execution_count": 131,
   "metadata": {},
   "outputs": [
    {
     "name": "stdout",
     "output_type": "stream",
     "text": [
      "[3.7177029  4.7788514  4.11666799 4.35083129 4.14564858 4.55514236\n",
      " 3.34236251 4.98958158 4.08819287 3.45316323 4.74106444 4.59781615\n",
      " 3.2812651  4.62750774 4.87365342 4.67031173 4.04192356 4.73755715\n",
      " 4.48029632 3.83940151 3.27052292 4.31072758 5.08448937 3.43181236\n",
      " 3.70696714 4.52156169 4.22300758 4.58508471 4.77128426 4.10527416\n",
      " 4.71344723 4.45440492 4.75619008 4.57193735 4.35917862 3.91841439\n",
      " 4.40821197 4.43705706 4.56123524 4.71522996 4.79694523 5.07949382\n",
      " 4.04840576 3.74007913 3.60612335 4.21652603 4.27606749 4.50461659\n",
      " 3.40300434 3.44575666 4.26006441 3.21501701 3.89344316 4.0402609\n",
      " 3.63879399 4.15952314 3.52438519 4.33463792 4.87940029 4.48248144\n",
      " 4.39328624 3.859927   4.56566588 5.10355718 4.60863474 4.44244921\n",
      " 4.30010372 4.72979459 3.46230025 4.99885748 4.36337089 4.0920352\n",
      " 4.93328828 4.89837245 4.58499308 5.38127079 5.14645638 4.00607047\n",
      " 4.8501746  5.15117666 4.03094199 4.0456761  2.61326166 3.14093406\n",
      " 3.8444854  5.05255562 4.18541309 3.72456408 4.93034641 3.97596433\n",
      " 4.4890428  3.81226362 5.27048293 4.62893093 3.46121006 4.67411533\n",
      " 3.38153443 4.53141003 4.79727935 3.90024154]\n"
     ]
    }
   ],
   "source": [
    "print(k)"
   ]
  },
  {
   "cell_type": "markdown",
   "metadata": {},
   "source": [
    "### Overall Satisfaction"
   ]
  },
  {
   "cell_type": "markdown",
   "metadata": {},
   "source": [
    "This call centre aims to offer a very high service and employees are assessed indirectly via the survey. The quality of the service is rated based on the answers to the below question:\n",
    "\n",
    "*How would you rate the overall quality of the service you received from the Agent \n",
    " - Below your expectations (select 1)\n",
    " - Satisfied your expectations (select 2)\n",
    " - Exceeded your expectations (select 3)\n",
    " \n",
    " This categorical data will be generated using normal distribution. As majority of the ratig is at 3 (exceeded expectation) - the distribution is skewed.\n"
   ]
  },
  {
   "cell_type": "code",
   "execution_count": 132,
   "metadata": {},
   "outputs": [
    {
     "data": {
      "image/png": "[encoded data removed]",
      "text/plain": [
       "<Figure size 201.6x288 with 1 Axes>"
      ]
     },
     "metadata": {},
     "output_type": "display_data"
    }
   ],
   "source": [
    "g = sns.catplot(x=\"Overall Satisfaction\",\n",
    "                    data=df, kind=\"count\",\n",
    "                    height=4, aspect=.7)"
   ]
  },
  {
   "cell_type": "code",
   "execution_count": 133,
   "metadata": {},
   "outputs": [
    {
     "data": {
      "image/png": "[encoded data removed]",
      "text/plain": [
       "<Figure size 432x288 with 1 Axes>"
      ]
     },
     "metadata": {},
     "output_type": "display_data"
    }
   ],
   "source": [
    "from scipy.stats import skewnorm\n",
    "import matplotlib.pyplot as plt\n",
    "\n",
    "numValues = 100\n",
    "minValue = 1\n",
    "maxValue = 3\n",
    "skewness = -3\n",
    "\n",
    "os = skewnorm.rvs(a = skewness,loc=maxValue, size=numValues)  #Skewnorm function\n",
    "\n",
    "random = random / max(random)      #Standardize all the vlues between 0 and 1. \n",
    "random = random * maxValue         #Multiply the standardized values by the maximum value.\n",
    "\n",
    "#Plot histogram to check skewness\n",
    "plt.hist(random,5,density=True, color = 'red', alpha=1)\n",
    "plt.show()"
   ]
  },
  {
   "cell_type": "markdown",
   "metadata": {},
   "source": [
    "#### Generate random numbers of Overall Satisfaction"
   ]
  },
  {
   "cell_type": "code",
   "execution_count": 134,
   "metadata": {},
   "outputs": [
    {
     "name": "stdout",
     "output_type": "stream",
     "text": [
      "[2.14888818 1.67409061 2.38274398 1.03801954 3.07769735 2.87370478\n",
      " 1.25127749 0.12927866 1.97341445 2.72638724 1.76077713 2.17180519\n",
      " 3.10779209 1.26221592 2.33052318 1.94472033 1.75105715 2.49570875\n",
      " 3.37777965 2.07866367 2.76075478 2.92442572 2.38426565 1.40900876\n",
      " 2.17626026 2.81669691 1.55031138 2.6744388  1.35804246 2.82943371\n",
      " 2.17123324 1.96686884 2.51743849 1.73723632 2.47566233 1.16732611\n",
      " 3.29338723 1.64940623 3.48543804 2.51814671 2.41493634 2.59328777\n",
      " 1.61295262 2.82599792 2.03778633 2.78753496 2.77275924 1.65620907\n",
      " 2.79415143 1.63851935 2.8208833  0.81488447 2.37118777 1.91211149\n",
      " 2.68830681 2.24445717 2.32312211 1.79991215 0.46319366 3.35118949\n",
      " 2.63394607 0.13928868 2.27262329 1.81161428 2.23665803 1.07450749\n",
      " 2.43942976 2.41477473 2.41294671 3.02801955 2.54944823 2.44123764\n",
      " 1.46910717 0.84273442 2.10204001 2.88724776 1.14663161 3.3748758\n",
      " 1.30765761 3.02348336 2.26035857 2.4503951  1.16530285 2.0509349\n",
      " 2.34191519 2.92742628 1.61767675 1.01005429 2.65381854 1.4842693\n",
      " 2.64475526 0.8416047  1.97601271 3.04172685 2.92247335 1.23392045\n",
      " 1.86457894 1.4388488  2.25604401 1.93816082]\n"
     ]
    }
   ],
   "source": [
    "print(os)"
   ]
  },
  {
   "cell_type": "markdown",
   "metadata": {},
   "source": [
    "### Creating databse "
   ]
  },
  {
   "cell_type": "code",
   "execution_count": 135,
   "metadata": {},
   "outputs": [
    {
     "ename": "SyntaxError",
     "evalue": "invalid syntax (<ipython-input-135-c52713b54c4b>, line 2)",
     "output_type": "error",
     "traceback": [
      "\u001b[1;36m  File \u001b[1;32m\"<ipython-input-135-c52713b54c4b>\"\u001b[1;36m, line \u001b[1;32m2\u001b[0m\n\u001b[1;33m    df2.head()\u001b[0m\n\u001b[1;37m      ^\u001b[0m\n\u001b[1;31mSyntaxError\u001b[0m\u001b[1;31m:\u001b[0m invalid syntax\n"
     ]
    }
   ],
   "source": [
    "df2 = pd.DataFrame(np.random.randint(0,100,size=(100, 5)), columns=list('\"Satisfaction from timely query resolution : s\", \"Agent attitude\" : a, \"Agent knowledge\" : k, \"Overall Satisfaction\" : os')\n",
    "df2.head()                   \n",
    "                 "
   ]
  },
  {
   "cell_type": "code",
   "execution_count": 136,
   "metadata": {},
   "outputs": [
    {
     "ename": "OperationalError",
     "evalue": "unable to open database file",
     "output_type": "error",
     "traceback": [
      "\u001b[1;31m---------------------------------------------------------------------------\u001b[0m",
      "\u001b[1;31mOperationalError\u001b[0m                          Traceback (most recent call last)",
      "\u001b[1;32m<ipython-input-136-3a83f95856db>\u001b[0m in \u001b[0;36m<module>\u001b[1;34m\u001b[0m\n\u001b[1;32m----> 1\u001b[1;33m \u001b[0mconn\u001b[0m \u001b[1;33m=\u001b[0m \u001b[0msqlite3\u001b[0m\u001b[1;33m.\u001b[0m\u001b[0mconnect\u001b[0m\u001b[1;33m(\u001b[0m\u001b[1;34m'data/example.db'\u001b[0m\u001b[1;33m)\u001b[0m\u001b[1;33m\u001b[0m\u001b[1;33m\u001b[0m\u001b[0m\n\u001b[0m",
      "\u001b[1;31mOperationalError\u001b[0m: unable to open database file"
     ]
    }
   ],
   "source": [
    "conn = sqlite3.connect('data/example.db')"
   ]
  },
  {
   "cell_type": "markdown",
   "metadata": {},
   "source": [
    "### KNN Nearest Neighbors prediction"
   ]
  },
  {
   "cell_type": "markdown",
   "metadata": {},
   "source": [
    "### Data Visualization"
   ]
  },
  {
   "cell_type": "code",
   "execution_count": 60,
   "metadata": {},
   "outputs": [
    {
     "data": {
      "text/plain": [
       "<seaborn.axisgrid.PairGrid at 0x1892325ca20>"
      ]
     },
     "execution_count": 60,
     "metadata": {},
     "output_type": "execute_result"
    },
    {
     "data": {
      "image/png": "[encoded data removed]",
      "text/plain": [
       "<Figure size 692.125x540 with 12 Axes>"
      ]
     },
     "metadata": {
      "needs_background": "light"
     },
     "output_type": "display_data"
    }
   ],
   "source": [
    "# Load the seaborn package\n",
    "sns.pairplot(df, hue='Overall Satisfaction')"
   ]
  },
  {
   "cell_type": "markdown",
   "metadata": {},
   "source": [
    "### Set inputs and outputs"
   ]
  },
  {
   "cell_type": "code",
   "execution_count": 36,
   "metadata": {},
   "outputs": [],
   "source": [
    "inputs = df[['Satisfaction from timely query resolution', 'Agent attitude', 'Agent knowledge']]\n",
    "outputs = df['Overall Satisfaction']"
   ]
  },
  {
   "cell_type": "markdown",
   "metadata": {},
   "source": [
    "### Classifier "
   ]
  },
  {
   "cell_type": "code",
   "execution_count": 37,
   "metadata": {},
   "outputs": [],
   "source": [
    "# set KNN Classifier to 2\n",
    "knn = nei.KNeighborsClassifier(n_neighbors=2)"
   ]
  },
  {
   "cell_type": "markdown",
   "metadata": {},
   "source": [
    "### Fit"
   ]
  },
  {
   "cell_type": "code",
   "execution_count": 38,
   "metadata": {},
   "outputs": [
    {
     "data": {
      "text/plain": [
       "KNeighborsClassifier(algorithm='auto', leaf_size=30, metric='minkowski',\n",
       "                     metric_params=None, n_jobs=None, n_neighbors=2, p=2,\n",
       "                     weights='uniform')"
      ]
     },
     "execution_count": 38,
     "metadata": {},
     "output_type": "execute_result"
    }
   ],
   "source": [
    "knn.fit(inputs, outputs)"
   ]
  },
  {
   "cell_type": "markdown",
   "metadata": {},
   "source": [
    "### Predict"
   ]
  },
  {
   "cell_type": "code",
   "execution_count": 39,
   "metadata": {},
   "outputs": [
    {
     "data": {
      "text/plain": [
       "Satisfaction from timely query resolution                        5\n",
       "Agent attitude                                                   5\n",
       "Agent knowledge                                                  5\n",
       "Overall Satisfaction                         Exceeded expectations\n",
       "Name: 75, dtype: object"
      ]
     },
     "execution_count": 39,
     "metadata": {},
     "output_type": "execute_result"
    }
   ],
   "source": [
    "df.loc[75]"
   ]
  },
  {
   "cell_type": "code",
   "execution_count": 40,
   "metadata": {},
   "outputs": [
    {
     "data": {
      "text/plain": [
       "array(['Satisfied'], dtype=object)"
      ]
     },
     "execution_count": 40,
     "metadata": {},
     "output_type": "execute_result"
    }
   ],
   "source": [
    "knn.predict([[3, 3, 4]])"
   ]
  },
  {
   "cell_type": "markdown",
   "metadata": {},
   "source": [
    "### Evaluate"
   ]
  },
  {
   "cell_type": "code",
   "execution_count": 54,
   "metadata": {},
   "outputs": [
    {
     "data": {
      "text/plain": [
       "97"
      ]
     },
     "execution_count": 54,
     "metadata": {},
     "output_type": "execute_result"
    }
   ],
   "source": [
    "(knn.predict(inputs) == outputs).sum()"
   ]
  },
  {
   "cell_type": "code",
   "execution_count": 55,
   "metadata": {},
   "outputs": [],
   "source": [
    "inputs_train, inputs_test, outputs_train, outputs_test = mod.train_test_split(inputs, outputs, test_size=0.33)"
   ]
  },
  {
   "cell_type": "code",
   "execution_count": 56,
   "metadata": {},
   "outputs": [
    {
     "data": {
      "text/plain": [
       "KNeighborsClassifier(algorithm='auto', leaf_size=30, metric='minkowski',\n",
       "                     metric_params=None, n_jobs=None, n_neighbors=2, p=2,\n",
       "                     weights='uniform')"
      ]
     },
     "execution_count": 56,
     "metadata": {},
     "output_type": "execute_result"
    }
   ],
   "source": [
    "# Recreate the classifier\n",
    "knn = nei.KNeighborsClassifier(n_neighbors=2)\n",
    "knn.fit(inputs_train, outputs_train)"
   ]
  },
  {
   "cell_type": "code",
   "execution_count": 57,
   "metadata": {},
   "outputs": [
    {
     "data": {
      "text/plain": [
       "33"
      ]
     },
     "execution_count": 57,
     "metadata": {},
     "output_type": "execute_result"
    }
   ],
   "source": [
    "(knn.predict(inputs_test) == outputs_test).sum()"
   ]
  },
  {
   "cell_type": "markdown",
   "metadata": {},
   "source": [
    "### End"
   ]
  },
  {
   "cell_type": "code",
   "execution_count": null,
   "metadata": {},
   "outputs": [],
   "source": []
  }
 ],
 "metadata": {
  "kernelspec": {
   "display_name": "Python 3",
   "language": "python",
   "name": "python3"
  },
  "language_info": {
   "codemirror_mode": {
    "name": "ipython",
    "version": 3
   },
   "file_extension": ".py",
   "mimetype": "text/x-python",
   "name": "python",
   "nbconvert_exporter": "python",
   "pygments_lexer": "ipython3",
   "version": "3.7.3"
  }
 },
 "nbformat": 4,
 "nbformat_minor": 2
}
