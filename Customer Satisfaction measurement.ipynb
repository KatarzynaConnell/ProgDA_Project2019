{
 "cells": [
  {
   "cell_type": "markdown",
   "metadata": {},
   "source": [
    "## Customer satisfaction measurement"
   ]
  },
  {
   "cell_type": "markdown",
   "metadata": {},
   "source": [
    "#### References"
   ]
  },
  {
   "cell_type": "markdown",
   "metadata": {},
   "source": [
    "McGuire,P., 2019. *Will artificial intelligence kill the contact centre?*, 7 March 2019. [Online]. Available from: https://www.irishtimes.com/business/innovation/will-artificial-intelligence-kill-the-contact-centre-1.3811094"
   ]
  },
  {
   "cell_type": "markdown",
   "metadata": {},
   "source": [
    "Chicu,D, Ryan, G. and Valverde-Aparicio, M., 2016. 'Determinants  of  customer  satisfaction  in  call centres'. *European Accounting and Management Review Issue 2 (2016)* [Online]. Available from https://www.researchgate.net/publication/304792295_Determinants_of_customer_satisfaction_in_call_centres "
   ]
  },
  {
   "cell_type": "markdown",
   "metadata": {},
   "source": [
    "*How is Average Handling Time (AHT) Distributed? It is Not How you Think!*, 8 February 2017 [Online]. Available from: https://www.callcentrehelper.com/how-is-average-handling-time-distributed-it-is-not-how-you-think-97688.htm"
   ]
  },
  {
   "cell_type": "markdown",
   "metadata": {},
   "source": [
    "*Logarithmic distribution*, 22 September 2019 [Online]. Available from: https://en.wikipedia.org/wiki/Logarithmic_distribution"
   ]
  },
  {
   "cell_type": "markdown",
   "metadata": {},
   "source": [
    "SciPy Docs, 24 July 2018 [Online]. Available from: https://docs.scipy.org/doc/numpy-1.15.0/reference/generated/numpy.random.binomial.html"
   ]
  },
  {
   "cell_type": "markdown",
   "metadata": {},
   "source": [
    "Longelin, J., *The 10 Best Metrics To Measure Call Center Agent Productivity* 29 August 2018. [Online]. Available from: https://blog.playvox.com/metrics-to-measure-call-center-agent-productivity"
   ]
  },
  {
   "cell_type": "code",
   "execution_count": null,
   "metadata": {},
   "outputs": [],
   "source": []
  },
  {
   "cell_type": "markdown",
   "metadata": {},
   "source": [
    "## Introduction\n",
    "\n",
    "On estimate 60,000 people work in contact centres and shared service in Ireland, with the average salary at just under €30,000 (McGuire 2019). Companies, big and small, are constantly looking for the way to improve customer service satisfatcion hence monitoring performance of the customer service centre agents is on top of the agenda for customer service management teams. \n",
    "\n",
    "Customer satisfaction  may  be affected by factors such as price, product performance, and service (Bitner et al., 1990; Brown and Maxwell, 2002; Day, 1984; Parasuraman et al., 1988). Most  studies  addressing  the  relationship  between  service  quality  and  customer satisfaction suggest a positive link between the two (Sharma et al., 2009; Upal and Dhaka, 2008).  \n",
    "Furthermore some reseachers suggest customer satisfaction depends also on employee ability to ensure first call resolution (Abdullateef et al., 2011; Aksin et al., 2007; Feinberg et al., 2000) or service level (Cheong et al., 2008).\n",
    "\n",
    "This project will inestigate the satisfaction of customers based on the service they received from the agent. \n",
    "This SurveyM online poll was conducted between Oct 1-31, 2019 among customers who called the agents and received the service. The total of 100 surveys were receved in that period. Each customer had to rate in the scale from 1 to 5 timely resolution, agent's knowledge, agent's attitude. The final question about overal customer satisfaction can be rated from 1 to 3 (1 - below expectation, 2 - satisfied, 3 - exceeded expectation).\n",
    "\n",
    "\n",
    "The call centre is based in Ireland and the it serves customers from around the globe. Agents to do not sell any productes but rather assist callers with website functionality and technical troubleshooting. The customer satisfaction is the main objective in their role.  \n"
   ]
  },
  {
   "cell_type": "markdown",
   "metadata": {},
   "source": [
    "## Data import"
   ]
  },
  {
   "cell_type": "markdown",
   "metadata": {},
   "source": [
    "### Libraries"
   ]
  },
  {
   "cell_type": "code",
   "execution_count": 2,
   "metadata": {},
   "outputs": [],
   "source": [
    "import sklearn.neighbors as nei\n",
    "import pandas as pd\n",
    "import seaborn as sns\n",
    "import numpy as np\n",
    "import sklearn.model_selection as mod\n",
    "import matplotlib.pyplot as plt"
   ]
  },
  {
   "cell_type": "markdown",
   "metadata": {},
   "source": [
    "### Load Data "
   ]
  },
  {
   "cell_type": "code",
   "execution_count": 3,
   "metadata": {},
   "outputs": [],
   "source": [
    "# Load data set\n",
    "df = pd.read_excel (r'C:\\Users\\user\\Documents\\Kasia - Data Analytics course\\Projects\\DAProg2019\\ProgDA_Project2019\\Survey results.xlsx')"
   ]
  },
  {
   "cell_type": "code",
   "execution_count": 4,
   "metadata": {},
   "outputs": [
    {
     "data": {
      "text/html": [
       "<div>\n",
       "<style scoped>\n",
       "    .dataframe tbody tr th:only-of-type {\n",
       "        vertical-align: middle;\n",
       "    }\n",
       "\n",
       "    .dataframe tbody tr th {\n",
       "        vertical-align: top;\n",
       "    }\n",
       "\n",
       "    .dataframe thead th {\n",
       "        text-align: right;\n",
       "    }\n",
       "</style>\n",
       "<table border=\"1\" class=\"dataframe\">\n",
       "  <thead>\n",
       "    <tr style=\"text-align: right;\">\n",
       "      <th></th>\n",
       "      <th>Satisfaction from timely query resolution</th>\n",
       "      <th>Agent attitude</th>\n",
       "      <th>Agent knowledge</th>\n",
       "      <th>Overall Satisfaction</th>\n",
       "    </tr>\n",
       "  </thead>\n",
       "  <tbody>\n",
       "    <tr>\n",
       "      <th>0</th>\n",
       "      <td>5</td>\n",
       "      <td>5</td>\n",
       "      <td>5</td>\n",
       "      <td>Exceeded expectations</td>\n",
       "    </tr>\n",
       "    <tr>\n",
       "      <th>1</th>\n",
       "      <td>5</td>\n",
       "      <td>5</td>\n",
       "      <td>5</td>\n",
       "      <td>Exceeded expectations</td>\n",
       "    </tr>\n",
       "  </tbody>\n",
       "</table>\n",
       "</div>"
      ],
      "text/plain": [
       "   Satisfaction from timely query resolution  Agent attitude  Agent knowledge  \\\n",
       "0                                          5               5                5   \n",
       "1                                          5               5                5   \n",
       "\n",
       "    Overall Satisfaction  \n",
       "0  Exceeded expectations  \n",
       "1  Exceeded expectations  "
      ]
     },
     "execution_count": 4,
     "metadata": {},
     "output_type": "execute_result"
    }
   ],
   "source": [
    "df.head(n=2)"
   ]
  },
  {
   "cell_type": "code",
   "execution_count": 5,
   "metadata": {},
   "outputs": [
    {
     "data": {
      "text/html": [
       "<div>\n",
       "<style scoped>\n",
       "    .dataframe tbody tr th:only-of-type {\n",
       "        vertical-align: middle;\n",
       "    }\n",
       "\n",
       "    .dataframe tbody tr th {\n",
       "        vertical-align: top;\n",
       "    }\n",
       "\n",
       "    .dataframe thead th {\n",
       "        text-align: right;\n",
       "    }\n",
       "</style>\n",
       "<table border=\"1\" class=\"dataframe\">\n",
       "  <thead>\n",
       "    <tr style=\"text-align: right;\">\n",
       "      <th></th>\n",
       "      <th>Satisfaction from timely query resolution</th>\n",
       "      <th>Agent attitude</th>\n",
       "      <th>Agent knowledge</th>\n",
       "      <th>Overall Satisfaction</th>\n",
       "    </tr>\n",
       "  </thead>\n",
       "  <tbody>\n",
       "    <tr>\n",
       "      <th>99</th>\n",
       "      <td>5</td>\n",
       "      <td>5</td>\n",
       "      <td>5</td>\n",
       "      <td>Exceeded expectations</td>\n",
       "    </tr>\n",
       "    <tr>\n",
       "      <th>100</th>\n",
       "      <td>5</td>\n",
       "      <td>5</td>\n",
       "      <td>5</td>\n",
       "      <td>Exceeded expectations</td>\n",
       "    </tr>\n",
       "  </tbody>\n",
       "</table>\n",
       "</div>"
      ],
      "text/plain": [
       "     Satisfaction from timely query resolution  Agent attitude  \\\n",
       "99                                           5               5   \n",
       "100                                          5               5   \n",
       "\n",
       "     Agent knowledge   Overall Satisfaction  \n",
       "99                 5  Exceeded expectations  \n",
       "100                5  Exceeded expectations  "
      ]
     },
     "execution_count": 5,
     "metadata": {},
     "output_type": "execute_result"
    }
   ],
   "source": [
    "df.tail(n=2)"
   ]
  },
  {
   "cell_type": "code",
   "execution_count": 10,
   "metadata": {},
   "outputs": [
    {
     "data": {
      "text/html": [
       "<div>\n",
       "<style scoped>\n",
       "    .dataframe tbody tr th:only-of-type {\n",
       "        vertical-align: middle;\n",
       "    }\n",
       "\n",
       "    .dataframe tbody tr th {\n",
       "        vertical-align: top;\n",
       "    }\n",
       "\n",
       "    .dataframe thead th {\n",
       "        text-align: right;\n",
       "    }\n",
       "</style>\n",
       "<table border=\"1\" class=\"dataframe\">\n",
       "  <thead>\n",
       "    <tr style=\"text-align: right;\">\n",
       "      <th></th>\n",
       "      <th>Satisfaction from timely query resolution</th>\n",
       "      <th>Agent attitude</th>\n",
       "      <th>Agent knowledge</th>\n",
       "    </tr>\n",
       "  </thead>\n",
       "  <tbody>\n",
       "    <tr>\n",
       "      <th>count</th>\n",
       "      <td>101.000000</td>\n",
       "      <td>101.000000</td>\n",
       "      <td>101.000000</td>\n",
       "    </tr>\n",
       "    <tr>\n",
       "      <th>mean</th>\n",
       "      <td>4.504950</td>\n",
       "      <td>4.584158</td>\n",
       "      <td>4.514851</td>\n",
       "    </tr>\n",
       "    <tr>\n",
       "      <th>std</th>\n",
       "      <td>1.092005</td>\n",
       "      <td>1.022422</td>\n",
       "      <td>1.073442</td>\n",
       "    </tr>\n",
       "    <tr>\n",
       "      <th>min</th>\n",
       "      <td>1.000000</td>\n",
       "      <td>1.000000</td>\n",
       "      <td>1.000000</td>\n",
       "    </tr>\n",
       "    <tr>\n",
       "      <th>25%</th>\n",
       "      <td>5.000000</td>\n",
       "      <td>5.000000</td>\n",
       "      <td>5.000000</td>\n",
       "    </tr>\n",
       "    <tr>\n",
       "      <th>50%</th>\n",
       "      <td>5.000000</td>\n",
       "      <td>5.000000</td>\n",
       "      <td>5.000000</td>\n",
       "    </tr>\n",
       "    <tr>\n",
       "      <th>75%</th>\n",
       "      <td>5.000000</td>\n",
       "      <td>5.000000</td>\n",
       "      <td>5.000000</td>\n",
       "    </tr>\n",
       "    <tr>\n",
       "      <th>max</th>\n",
       "      <td>5.000000</td>\n",
       "      <td>5.000000</td>\n",
       "      <td>5.000000</td>\n",
       "    </tr>\n",
       "  </tbody>\n",
       "</table>\n",
       "</div>"
      ],
      "text/plain": [
       "       Satisfaction from timely query resolution  Agent attitude  \\\n",
       "count                                 101.000000      101.000000   \n",
       "mean                                    4.504950        4.584158   \n",
       "std                                     1.092005        1.022422   \n",
       "min                                     1.000000        1.000000   \n",
       "25%                                     5.000000        5.000000   \n",
       "50%                                     5.000000        5.000000   \n",
       "75%                                     5.000000        5.000000   \n",
       "max                                     5.000000        5.000000   \n",
       "\n",
       "       Agent knowledge  \n",
       "count       101.000000  \n",
       "mean          4.514851  \n",
       "std           1.073442  \n",
       "min           1.000000  \n",
       "25%           5.000000  \n",
       "50%           5.000000  \n",
       "75%           5.000000  \n",
       "max           5.000000  "
      ]
     },
     "execution_count": 10,
     "metadata": {},
     "output_type": "execute_result"
    }
   ],
   "source": [
    "df.describe()"
   ]
  },
  {
   "cell_type": "markdown",
   "metadata": {},
   "source": [
    "## Variables"
   ]
  },
  {
   "cell_type": "markdown",
   "metadata": {},
   "source": [
    "### Satisfaction from timely query resolution"
   ]
  },
  {
   "cell_type": "markdown",
   "metadata": {},
   "source": [
    "While many other metrics can reveal areas where agents are falling short, the customer satisfaction score is the most direct measure to tell if call center is providing the support the customers need (Longelin, 2018).\n",
    "\n",
    "In the survey the customer satisfaction is determined by the answer to the below question: \n",
    "\n",
    "*On the scale from 1 to 5 how satisfied or dissatisfied are you with how the Agent resolved your query in a timely manner? \n",
    "(1-Very dissatisfied, 2-Somewhat dissatisfied, 3- Neither satisfied nor dissatisfied, 4 - Somewhat satisfied, 5 - Very satisfied)\n",
    " \n",
    "This categorical variable has the average score of 4.50 out of 5. The left-skewed distribution can be observed here (also called negative-skew)."
   ]
  },
  {
   "cell_type": "code",
   "execution_count": 31,
   "metadata": {},
   "outputs": [
    {
     "data": {
      "text/plain": [
       "<matplotlib.axes._subplots.AxesSubplot at 0x2063012a9e8>"
      ]
     },
     "execution_count": 31,
     "metadata": {},
     "output_type": "execute_result"
    },
    {
     "data": {
      "image/png": "[encoded data removed]",
      "text/plain": [
       "<Figure size 432x288 with 1 Axes>"
      ]
     },
     "metadata": {},
     "output_type": "display_data"
    }
   ],
   "source": [
    "sns.distplot(df['Satisfaction from timely query resolution'], kde=False, bins=5)"
   ]
  },
  {
   "cell_type": "markdown",
   "metadata": {},
   "source": [
    "### Agent attitude"
   ]
  },
  {
   "cell_type": "markdown",
   "metadata": {},
   "source": [
    "Employees are the brand ambassadors and their behaviour towards the customers have significant impact on how the company is perceived. The agent's attitude (customer  orientation,  responsiveness) is important indicator of not only how happy the customers are but they are also widely used by the company managers for HR analysis.\n",
    "\n",
    "The data that measure the agent' behaviour is gather as the answer to the following question:\n",
    "*The Agent was courteous and professional. \n",
    " Strongly Disagree \n",
    " Disagree \n",
    " Neutral \n",
    " Agree \n",
    " Strongly Agree \n",
    "\n",
    "The eft-skewed distributions\n",
    "The left-skewed distribution can be observed here (also called negative-skew).\n",
    "Here is a histogram and a quantile-quantile plot for a left-skewed distribution."
   ]
  },
  {
   "cell_type": "code",
   "execution_count": 15,
   "metadata": {},
   "outputs": [
    {
     "data": {
      "text/plain": [
       "<matplotlib.axes._subplots.AxesSubplot at 0x2062ec8fe48>"
      ]
     },
     "execution_count": 15,
     "metadata": {},
     "output_type": "execute_result"
    },
    {
     "data": {
      "image/png": "[encoded data removed]",
      "text/plain": [
       "<Figure size 432x288 with 1 Axes>"
      ]
     },
     "metadata": {},
     "output_type": "display_data"
    }
   ],
   "source": [
    "sns.distplot(df['Agent attitude'], kde=False, bins=5)"
   ]
  },
  {
   "cell_type": "markdown",
   "metadata": {},
   "source": [
    "### Agent knowledge"
   ]
  },
  {
   "cell_type": "markdown",
   "metadata": {},
   "source": [
    "Quite often the comments that are left on the survey suggest that company should ensure knowledgable staff do not leave. Fast resolution of customer query is often the result of the agent's knowledge so the third variable is rating of agent in terms of how represents how knowledgable and easy to understand agent is.\n",
    "1 - strongly unsatisfied, 2 - smoewhat unsatisfied, 3- neither satisfied nor unsatisfied, 4- somewhat satisfied, 5 - strongly satisfied.\n",
    "\n",
    "The left-skewed distribution can be observed here (also called negative-skew).\n"
   ]
  },
  {
   "cell_type": "code",
   "execution_count": 20,
   "metadata": {},
   "outputs": [
    {
     "data": {
      "text/plain": [
       "<matplotlib.axes._subplots.AxesSubplot at 0x2062ee18ef0>"
      ]
     },
     "execution_count": 20,
     "metadata": {},
     "output_type": "execute_result"
    },
    {
     "data": {
      "image/png": "[encoded data removed]",
      "text/plain": [
       "<Figure size 432x288 with 1 Axes>"
      ]
     },
     "metadata": {},
     "output_type": "display_data"
    }
   ],
   "source": [
    "sns.distplot(df['Agent knowledge'], kde=False, bins=5)"
   ]
  },
  {
   "cell_type": "markdown",
   "metadata": {},
   "source": [
    "### Overall Satisfaction"
   ]
  },
  {
   "cell_type": "markdown",
   "metadata": {},
   "source": [
    "This call centre aims to offer a very high service and employees are assessed indirectly via the survey. The quality of the service is rated based on the answers to the below question:\n",
    "\n",
    "*How would you rate the overall quality of the service you received from the Agent \n",
    " - Below your expectations (select 1)\n",
    " - Satisfied your expectations (select 2)\n",
    " - Exceeded your expectations (select 3)\n",
    " \n",
    " This categorical data will be generated using normal distribution\n"
   ]
  },
  {
   "cell_type": "code",
   "execution_count": 30,
   "metadata": {},
   "outputs": [
    {
     "data": {
      "image/png": "[encoded data removed]",
      "text/plain": [
       "<Figure size 201.6x288 with 1 Axes>"
      ]
     },
     "metadata": {},
     "output_type": "display_data"
    }
   ],
   "source": [
    "g = sns.catplot(x=\"Overall Satisfaction\",\n",
    "                    data=df, kind=\"count\",\n",
    "                    height=4, aspect=.7)"
   ]
  },
  {
   "cell_type": "markdown",
   "metadata": {},
   "source": [
    "### Data Visualization"
   ]
  },
  {
   "cell_type": "code",
   "execution_count": 60,
   "metadata": {},
   "outputs": [
    {
     "data": {
      "text/plain": [
       "<seaborn.axisgrid.PairGrid at 0x1892325ca20>"
      ]
     },
     "execution_count": 60,
     "metadata": {},
     "output_type": "execute_result"
    },
    {
     "data": {
      "image/png": "[encoded data removed]",
      "text/plain": [
       "<Figure size 692.125x540 with 12 Axes>"
      ]
     },
     "metadata": {
      "needs_background": "light"
     },
     "output_type": "display_data"
    }
   ],
   "source": [
    "# Load the seaborn package\n",
    "sns.pairplot(df, hue='Overall Satisfaction')"
   ]
  },
  {
   "cell_type": "code",
   "execution_count": 36,
   "metadata": {},
   "outputs": [],
   "source": [
    "inputs = df[['Satisfaction from timely query resolution', 'Agent attitude', 'Agent knowledge']]\n",
    "outputs = df['Overall Satisfaction']"
   ]
  },
  {
   "cell_type": "code",
   "execution_count": 37,
   "metadata": {},
   "outputs": [],
   "source": [
    "knn = nei.KNeighborsClassifier(n_neighbors=2)"
   ]
  },
  {
   "cell_type": "code",
   "execution_count": 38,
   "metadata": {},
   "outputs": [
    {
     "data": {
      "text/plain": [
       "KNeighborsClassifier(algorithm='auto', leaf_size=30, metric='minkowski',\n",
       "                     metric_params=None, n_jobs=None, n_neighbors=2, p=2,\n",
       "                     weights='uniform')"
      ]
     },
     "execution_count": 38,
     "metadata": {},
     "output_type": "execute_result"
    }
   ],
   "source": [
    "knn.fit(inputs, outputs)"
   ]
  },
  {
   "cell_type": "markdown",
   "metadata": {},
   "source": [
    "### Predict"
   ]
  },
  {
   "cell_type": "code",
   "execution_count": 39,
   "metadata": {},
   "outputs": [
    {
     "data": {
      "text/plain": [
       "Satisfaction from timely query resolution                        5\n",
       "Agent attitude                                                   5\n",
       "Agent knowledge                                                  5\n",
       "Overall Satisfaction                         Exceeded expectations\n",
       "Name: 75, dtype: object"
      ]
     },
     "execution_count": 39,
     "metadata": {},
     "output_type": "execute_result"
    }
   ],
   "source": [
    "df.loc[75]"
   ]
  },
  {
   "cell_type": "code",
   "execution_count": 40,
   "metadata": {},
   "outputs": [
    {
     "data": {
      "text/plain": [
       "array(['Satisfied'], dtype=object)"
      ]
     },
     "execution_count": 40,
     "metadata": {},
     "output_type": "execute_result"
    }
   ],
   "source": [
    "knn.predict([[3, 3, 4]])"
   ]
  },
  {
   "cell_type": "markdown",
   "metadata": {},
   "source": [
    "### Evaluate"
   ]
  },
  {
   "cell_type": "code",
   "execution_count": 54,
   "metadata": {},
   "outputs": [
    {
     "data": {
      "text/plain": [
       "97"
      ]
     },
     "execution_count": 54,
     "metadata": {},
     "output_type": "execute_result"
    }
   ],
   "source": [
    "(knn.predict(inputs) == outputs).sum()"
   ]
  },
  {
   "cell_type": "code",
   "execution_count": 55,
   "metadata": {},
   "outputs": [],
   "source": [
    "inputs_train, inputs_test, outputs_train, outputs_test = mod.train_test_split(inputs, outputs, test_size=0.33)"
   ]
  },
  {
   "cell_type": "code",
   "execution_count": 56,
   "metadata": {},
   "outputs": [
    {
     "data": {
      "text/plain": [
       "KNeighborsClassifier(algorithm='auto', leaf_size=30, metric='minkowski',\n",
       "                     metric_params=None, n_jobs=None, n_neighbors=2, p=2,\n",
       "                     weights='uniform')"
      ]
     },
     "execution_count": 56,
     "metadata": {},
     "output_type": "execute_result"
    }
   ],
   "source": [
    "# Recreate the classifier\n",
    "knn = nei.KNeighborsClassifier(n_neighbors=2)\n",
    "knn.fit(inputs_train, outputs_train)"
   ]
  },
  {
   "cell_type": "code",
   "execution_count": 57,
   "metadata": {},
   "outputs": [
    {
     "data": {
      "text/plain": [
       "33"
      ]
     },
     "execution_count": 57,
     "metadata": {},
     "output_type": "execute_result"
    }
   ],
   "source": [
    "(knn.predict(inputs_test) == outputs_test).sum()"
   ]
  },
  {
   "cell_type": "markdown",
   "metadata": {},
   "source": [
    "### End"
   ]
  },
  {
   "cell_type": "code",
   "execution_count": null,
   "metadata": {},
   "outputs": [],
   "source": []
  }
 ],
 "metadata": {
  "kernelspec": {
   "display_name": "Python 3",
   "language": "python",
   "name": "python3"
  },
  "language_info": {
   "codemirror_mode": {
    "name": "ipython",
    "version": 3
   },
   "file_extension": ".py",
   "mimetype": "text/x-python",
   "name": "python",
   "nbconvert_exporter": "python",
   "pygments_lexer": "ipython3",
   "version": "3.7.3"
  }
 },
 "nbformat": 4,
 "nbformat_minor": 2
}
